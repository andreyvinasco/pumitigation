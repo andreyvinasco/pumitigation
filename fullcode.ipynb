{
 "cells": [
  {
   "cell_type": "code",
   "execution_count": 193,
   "id": "08f9bc62-348c-4de8-9927-7f1a9fcd67d6",
   "metadata": {},
   "outputs": [],
   "source": [
    "import pandas as pd\n",
    "import uproot as ur\n",
    "import numpy as np \n",
    "import matplotlib.pyplot as plt\n",
    "import networkx as nx"
   ]
  },
  {
   "cell_type": "code",
   "execution_count": 194,
   "id": "99aca85a-c0d5-4b2e-96af-3cdbe859cc37",
   "metadata": {},
   "outputs": [
    {
     "name": "stderr",
     "output_type": "stream",
     "text": [
      "/tmp/ipykernel_164567/2910932592.py:2: FutureWarning: In a future version of pandas all arguments of read_csv except for the argument 'filepath_or_buffer' will be keyword-only.\n",
      "  file = pd.read_csv('./fracdata.csv',' ')\n"
     ]
    },
    {
     "data": {
      "text/plain": [
       "Index(['seqNumber', 'runNumber', 'eventNumber', 'avgMu', 'nPrimVtx', 'jetCnt',\n",
       "       'jetCalE', 'jetCalPt', 'jetCalEta', 'jetCalPhi', 'jetRawE', 'jetRawPt',\n",
       "       'jetRawEta', 'jetRawPhi', 'jetNConst', 'truthJetMatchRadius',\n",
       "       'truthJetE', 'truthJetPt', 'truthJetRap', 'truthJetPhi', 'nCluster',\n",
       "       'clusterIndex', 'cluster_nCells', 'cluster_nCells_tot', 'clusterECalib',\n",
       "       'clusterPtCalib', 'clusterEtaCalib', 'clusterPhiCalib',\n",
       "       'cluster_sumCellECalib', 'cluster_fracECalib', 'cluster_fracECalib_ref',\n",
       "       'clusterE', 'clusterPt', 'clusterEta', 'clusterPhi', 'cluster_sumCellE',\n",
       "       'cluster_time', 'cluster_fracE', 'cluster_fracE_ref',\n",
       "       'cluster_EM_PROBABILITY', 'cluster_HAD_WEIGHT', 'cluster_OOC_WEIGHT',\n",
       "       'cluster_DM_WEIGHT', 'cluster_ENG_CALIB_TOT', 'cluster_ENG_CALIB_OUT_T',\n",
       "       'cluster_ENG_CALIB_OUT_L', 'cluster_ENG_CALIB_OUT_M',\n",
       "       'cluster_ENG_CALIB_DEAD_T', 'cluster_ENG_CALIB_DEAD_L',\n",
       "       'cluster_ENG_CALIB_DEAD_M', 'cluster_ENG_CALIB_DEAD_TOT',\n",
       "       'cluster_ENG_CALIB_FRAC_EM', 'cluster_ENG_CALIB_FRAC_HAD',\n",
       "       'cluster_ENG_CALIB_FRAC_REST', 'cluster_CENTER_MAG',\n",
       "       'cluster_FIRST_ENG_DENS', 'cluster_FIRST_PHI', 'cluster_FIRST_ETA',\n",
       "       'cluster_SECOND_R', 'cluster_SECOND_LAMBDA', 'cluster_DELTA_PHI',\n",
       "       'cluster_DELTA_THETA', 'cluster_DELTA_ALPHA', 'cluster_CENTER_X',\n",
       "       'cluster_CENTER_Y', 'cluster_CENTER_Z', 'cluster_CENTER_LAMBDA',\n",
       "       'cluster_LATERAL', 'cluster_LONGITUDINAL', 'cluster_ENG_FRAC_EM',\n",
       "       'cluster_ENG_FRAC_MAX', 'cluster_ENG_FRAC_CORE',\n",
       "       'cluster_SECOND_ENG_DENS', 'cluster_ISOLATION', 'cluster_ENG_BAD_CELLS',\n",
       "       'cluster_N_BAD_CELLS', 'cluster_N_BAD_CELLS_CORR',\n",
       "       'cluster_BAD_CELLS_CORR_E', 'cluster_BADLARQ_FRAC', 'cluster_ENG_POS',\n",
       "       'cluster_SIGNIFICANCE', 'cluster_CELL_SIGNIFICANCE',\n",
       "       'cluster_CELL_SIG_SAMPLING', 'cluster_AVG_LAR_Q', 'cluster_AVG_TILE_Q',\n",
       "       'cluster_ENG_BAD_HV_CELLS', 'cluster_N_BAD_HV_CELLS', 'cluster_PTD',\n",
       "       'cluster_MASS', 'cluster_SECOND_TIME'],\n",
       "      dtype='object')"
      ]
     },
     "execution_count": 194,
     "metadata": {},
     "output_type": "execute_result"
    }
   ],
   "source": [
    "#file = ur.open('/home/jmsardain/JetCalib/Akt4EMTopo.topo_cluster.root')[\"ClusterTree\"]\n",
    "file = pd.read_csv('./fracdata.csv',' ')\n",
    "\n",
    "#df = file.arrays(library=\"pd\")\n",
    "df1 = file.head(200000)\n",
    "#df1.columns\n",
    "df1.keys()\n",
    "\n",
    "#df1 = file.head(80000)"
   ]
  },
  {
   "cell_type": "code",
   "execution_count": 195,
   "id": "d7cbd19f",
   "metadata": {},
   "outputs": [],
   "source": [
    "#test = []\n",
    "#df = df1\n",
    "#df1[[ 'eventNumber','jetCnt']][:35]"
   ]
  },
  {
   "cell_type": "code",
   "execution_count": null,
   "id": "0078c465",
   "metadata": {},
   "outputs": [],
   "source": [
    "\n"
   ]
  },
  {
   "cell_type": "code",
   "execution_count": 196,
   "id": "b11ae0d0",
   "metadata": {},
   "outputs": [],
   "source": [
    "#for event in eventNumbers:\n",
    "tempE = []\n",
    "tempEta = []\n",
    "temp_time = []\n",
    "temp_labels = []\n",
    "temp_CENTER_LAMBDA = []\n",
    "temp_CENTER_MAG = []\n",
    "temp_Phi = []\n",
    "#\n",
    "temp_ENG_FRAC_EM = []\n",
    "temp_FIRST_ENG_DENS = []\n",
    "temp_LATERAL = []\n",
    "temp_LONGITUDINAL = []\n",
    "temp_PTD = []\n",
    "temp_ISOLATION = []\n",
    "temp_SECOND_TIME = []\n",
    "temp_SIGNIFICANCE = []\n",
    "temp_nPrimVtx = []\n",
    "temp_avgMu = []\n",
    "\n",
    "\n",
    "clusterE = []\n",
    "clusterEta = []\n",
    "cluster_time = []\n",
    "labels = []\n",
    "cluster_CENTER_LAMBDA = []\n",
    "cluster_CENTER_MAG = []\n",
    "clusterPhi = []\n",
    "#\n",
    "cluster_ENG_FRAC_EM = []\n",
    "cluster_FIRST_ENG_DENS = []\n",
    "cluster_LATERAL = []\n",
    "cluster_LONGITUDINAL = []\n",
    "cluster_PTD = []\n",
    "cluster_ISOLATION = []\n",
    "cluster_SECOND_TIME = []\n",
    "cluster_SIGNIFICANCE = []\n",
    "nPrimVtx = []\n",
    "avgMu = []\n",
    "\n",
    "'''\n",
    "'cluster_ENG_FRAC_EM',\n",
    "'cluster_FIRST_ENG_DENS',\n",
    "'cluster_LATERAL',\n",
    "'cluster_LONGITUDINAL',\n",
    "'cluster_PTD',\n",
    "'cluster_time',\n",
    "'cluster_ISOLATION',\n",
    "'cluster_SECOND_TIME',\n",
    "'cluster_SIGNIFICANCE',\n",
    "'nPrimVtx',\n",
    "'avgMu'\n",
    "'''\n",
    "\n",
    "\n",
    "count_jets = 1\n",
    "old_event = df1['jetCnt'][0]\n",
    "old_jetCnt = df1['jetCnt'][0]\n",
    "change_bol = False\n",
    "\n",
    "\n",
    "for index,row in df1.iterrows():\n",
    "    \n",
    "    if old_jetCnt != row['jetCnt']:\n",
    "        old_jetCnt = row['jetCnt']\n",
    "        count_jets = +1\n",
    "        #print(count_jets)\n",
    "        if count_jets == 1:\n",
    "            clusterE.append(tempE)\n",
    "            clusterEta.append(tempEta)\n",
    "            cluster_time.append(temp_time)\n",
    "            labels.append(temp_labels)\n",
    "            #print( len(tempEta) )\n",
    "            cluster_CENTER_LAMBDA.append(temp_CENTER_LAMBDA)\n",
    "            cluster_CENTER_MAG.append(temp_CENTER_MAG)\n",
    "            clusterPhi.append(temp_Phi)\n",
    "            \n",
    "            cluster_ENG_FRAC_EM.append(temp_ENG_FRAC_EM)\n",
    "            cluster_FIRST_ENG_DENS.append(temp_FIRST_ENG_DENS)\n",
    "            cluster_LATERAL.append(temp_LATERAL)\n",
    "            cluster_LONGITUDINAL.append(temp_LONGITUDINAL)\n",
    "            cluster_PTD.append(temp_PTD)\n",
    "            cluster_ISOLATION.append(temp_ISOLATION)\n",
    "            cluster_SECOND_TIME.append(temp_SECOND_TIME)\n",
    "            cluster_SIGNIFICANCE.append(temp_SIGNIFICANCE)\n",
    "            nPrimVtx.append(temp_nPrimVtx)\n",
    "            avgMu.append(temp_avgMu)\n",
    "            \n",
    "            tempE = []\n",
    "            tempEta = []\n",
    "            temp_time = []\n",
    "            temp_labels = []\n",
    "            temp_CENTER_LAMBDA = []\n",
    "            temp_CENTER_MAG = []\n",
    "            temp_Phi = []\n",
    "            #\n",
    "            temp_ENG_FRAC_EM = []\n",
    "            temp_FIRST_ENG_DENS = []\n",
    "            temp_LATERAL = []\n",
    "            temp_LONGITUDINAL = []\n",
    "            temp_PTD = []\n",
    "            temp_ISOLATION = []\n",
    "            temp_SECOND_TIME = []\n",
    "            temp_SIGNIFICANCE = []\n",
    "            temp_nPrimVtx = []\n",
    "            temp_avgMu = []\n",
    "            \n",
    "            \n",
    "    if old_event != row['eventNumber']:\n",
    "        old_event = row['eventNumber']\n",
    "        count_jets = 0\n",
    "        #change = False\n",
    "        \n",
    "    #a = list(df[df[\"eventNumber\"]==event].clusterE.values)\n",
    "    #b = list(df[df[\"eventNumber\"]==event].clusterEtaCalib.values)\n",
    "    #c = list(df[df[\"eventNumber\"]==event].cluster_time.values)\n",
    "    #d = list(np.where(np.array(df[df[\"eventNumber\"]==event].cluster_ENG_CALIB_TOT.values) == 0, 1, 0))\n",
    "    #clusterE.append(a)\n",
    "    #clusterEta.append(b)\n",
    "    #cluster_time.append(c)\n",
    "    #labels.append(d)\n",
    "    tempE.append(row['clusterE'])\n",
    "    tempEta.append(row['clusterEtaCalib'])\n",
    "    temp_time.append(row['cluster_time']/10)\n",
    "    temp_labels.append( float(row['cluster_ENG_CALIB_TOT'] <= 0) )\n",
    "    temp_CENTER_LAMBDA.append(row['cluster_CENTER_LAMBDA']/100)\n",
    "    temp_CENTER_MAG.append(row['cluster_CENTER_MAG']/1000)\n",
    "    temp_Phi.append(row['clusterPhi'])\n",
    "    temp_ENG_FRAC_EM.append(row['cluster_ENG_FRAC_EM'])\n",
    "    temp_FIRST_ENG_DENS.append(row['cluster_FIRST_ENG_DENS']*10**6)\n",
    "    temp_LATERAL.append(row['cluster_LATERAL'])\n",
    "    temp_LONGITUDINAL.append(row['cluster_LONGITUDINAL'])\n",
    "    temp_PTD.append(row['cluster_PTD'])\n",
    "    temp_ISOLATION.append(row['cluster_ISOLATION'])\n",
    "    temp_SECOND_TIME.append(row['cluster_SECOND_TIME'])\n",
    "    temp_SIGNIFICANCE.append(row['cluster_SIGNIFICANCE'])\n",
    "    temp_nPrimVtx.append(row['nPrimVtx'])\n",
    "    temp_avgMu.append(row['avgMu']/10)"
   ]
  },
  {
   "cell_type": "code",
   "execution_count": 197,
   "id": "9518b4b4",
   "metadata": {},
   "outputs": [],
   "source": [
    "## create Dictionary containing data and labels\n",
    "\n",
    "Dictionary_data ={\n",
    "    \"0\": clusterE,\n",
    "    \"1\": clusterEta,\n",
    "    \"2\": cluster_time,\n",
    "    \"3\": cluster_CENTER_LAMBDA,\n",
    "    \"4\": cluster_CENTER_MAG,\n",
    "    \"5\": cluster_ENG_FRAC_EM ,\n",
    "    \"6\": cluster_FIRST_ENG_DENS ,\n",
    "    \"7\": cluster_LATERAL ,\n",
    "    \"8\": cluster_LONGITUDINAL ,\n",
    "    \"9\": cluster_PTD ,\n",
    "    \"10\": cluster_ISOLATION ,\n",
    "    \"11\": cluster_SECOND_TIME,\n",
    "    \"12\": cluster_SIGNIFICANCE,\n",
    "    \"13\": nPrimVtx,\n",
    "    \"14\": avgMu,\n",
    "    \"15\": clusterPhi,    \n",
    "    \"label\": labels\n",
    "}"
   ]
  },
  {
   "cell_type": "code",
   "execution_count": 198,
   "id": "72647a94",
   "metadata": {},
   "outputs": [
    {
     "data": {
      "text/plain": [
       "[0.0,\n",
       " 0.0,\n",
       " 1.0,\n",
       " 0.8203125,\n",
       " 0.70703125,\n",
       " 0.52734375,\n",
       " 0.13476562,\n",
       " 0.91796875,\n",
       " 1.0,\n",
       " 1.0,\n",
       " 1.0,\n",
       " 0.98828125,\n",
       " 1.0,\n",
       " 0.7734375]"
      ]
     },
     "execution_count": 198,
     "metadata": {},
     "output_type": "execute_result"
    }
   ],
   "source": [
    "Dictionary_data[\"5\"][50]"
   ]
  },
  {
   "cell_type": "code",
   "execution_count": 199,
   "id": "fef3c090-9476-4c32-bd8f-517760257a49",
   "metadata": {},
   "outputs": [
    {
     "data": {
      "text/plain": [
       "' \\nclusterE = [] \\nclusterEta = []\\ncluster_time = []\\nlabels = [] \\ntest = []\\n\\neventNumbers =np.array(df.eventNumber.drop_duplicates() )\\n\\nfor event in eventNumbers:\\n    a = list(df[df[\"eventNumber\"]==event].clusterE.values)\\n    b = list(df[df[\"eventNumber\"]==event].clusterEtaCalib.values)\\n    c = list(df[df[\"eventNumber\"]==event].cluster_time.values)\\n    d = list(np.where(np.array(df[df[\"eventNumber\"]==event].cluster_ENG_CALIB_TOT.values) <= 0, 1, 0))\\n    clusterE.append(a)\\n    clusterEta.append(b)\\n    cluster_time.append(c)\\n    labels.append(d)\\n    pass\\nlabels[4]\\n'"
      ]
     },
     "execution_count": 199,
     "metadata": {},
     "output_type": "execute_result"
    }
   ],
   "source": [
    "''' \n",
    "clusterE = [] \n",
    "clusterEta = []\n",
    "cluster_time = []\n",
    "labels = [] \n",
    "test = []\n",
    "\n",
    "eventNumbers =np.array(df.eventNumber.drop_duplicates() )\n",
    "\n",
    "for event in eventNumbers:\n",
    "    a = list(df[df[\"eventNumber\"]==event].clusterE.values)\n",
    "    b = list(df[df[\"eventNumber\"]==event].clusterEtaCalib.values)\n",
    "    c = list(df[df[\"eventNumber\"]==event].cluster_time.values)\n",
    "    d = list(np.where(np.array(df[df[\"eventNumber\"]==event].cluster_ENG_CALIB_TOT.values) <= 0, 1, 0))\n",
    "    clusterE.append(a)\n",
    "    clusterEta.append(b)\n",
    "    cluster_time.append(c)\n",
    "    labels.append(d)\n",
    "    pass\n",
    "labels[4]\n",
    "'''"
   ]
  },
  {
   "cell_type": "code",
   "execution_count": 200,
   "id": "bdbdf519-8c2b-4448-9ba1-dc8e12383108",
   "metadata": {},
   "outputs": [],
   "source": [
    "#df[df[\"eventNumber\"]==47081045].clusterE.values"
   ]
  },
  {
   "cell_type": "code",
   "execution_count": 201,
   "id": "a79d8286",
   "metadata": {},
   "outputs": [
    {
     "data": {
      "text/plain": [
       "array([ 1,  1,  1,  1,  1,  1,  1,  1,  1, 10,  1, 10,  1,  1,  1,  1,  1,\n",
       "        1,  1,  1])"
      ]
     },
     "execution_count": 201,
     "metadata": {},
     "output_type": "execute_result"
    }
   ],
   "source": [
    "(np.array(labels[3]) > 0.5)*9 + 1"
   ]
  },
  {
   "cell_type": "code",
   "execution_count": 202,
   "id": "47a73d3d-6091-4ccf-bb20-490b5e4936ee",
   "metadata": {},
   "outputs": [
    {
     "name": "stdout",
     "output_type": "stream",
     "text": [
      "Graph 1:\n",
      "Data(x=[1, 23, 16], edge_index=[2, 253], y=[23], weights=[23])\n",
      "\n",
      "Graph 2:\n",
      "Data(x=[1, 16, 16], edge_index=[2, 120], y=[16], weights=[16])\n",
      "\n",
      "Graph 3:\n",
      "Data(x=[1, 12, 16], edge_index=[2, 66], y=[12], weights=[12])\n",
      "\n",
      "Graph 4:\n",
      "Data(x=[1, 20, 16], edge_index=[2, 190], y=[20], weights=[20])\n",
      "\n"
     ]
    }
   ],
   "source": [
    "import torch\n",
    "from torch_geometric.data import Data\n",
    "\n",
    "graph_list = []\n",
    "for i in range(len(clusterE)):\n",
    "    num_nodes = len(clusterE[i])\n",
    "    edge_index = torch.tensor([[i, j] for i in range(num_nodes) for j in range(i+1, num_nodes)], dtype=torch.long).t().contiguous()\n",
    "    #print(edge_index)\n",
    "    vec = []\n",
    "    \n",
    "    #vec.append(np.array([Dictionary_data[\"0\"][i], Dictionary_data[\"1\"][i], Dictionary_data[\"2\"][i],Dictionary_data[\"3\"][i], Dictionary_data[\"4\"][i], Dictionary_data[\"5\"][i]]).T)\n",
    "    vec.append(np.array([Dictionary_data[\"0\"][i], Dictionary_data[\"1\"][i], Dictionary_data[\"2\"][i], Dictionary_data[\"3\"][i], Dictionary_data[\"4\"][i], \n",
    "                         Dictionary_data[\"5\"][i], Dictionary_data[\"6\"][i], Dictionary_data[\"7\"][i], Dictionary_data[\"8\"][i], Dictionary_data[\"9\"][i], \n",
    "                         Dictionary_data[\"10\"][i], Dictionary_data[\"11\"][i], Dictionary_data[\"12\"][i], Dictionary_data[\"13\"][i], Dictionary_data[\"14\"][i], \n",
    "                         Dictionary_data[\"15\"][i]]).T)\n",
    "    \n",
    "    #for j in range (0,len(Dictionary_data)-1):\n",
    "    #    vec.append(np.array(Dictionary_data[str(j)][i]) )\n",
    "    \n",
    "    x = torch.tensor(vec, dtype=torch.float)\n",
    "    #x = np.array(vec)\n",
    "    w=(np.array(labels[i]) > 0.5)*9 + 1\n",
    "    \n",
    "    #graph = Data(x=x, edge_index=edge_index, y=labels[i])\n",
    "    graph = Data(x=x, edge_index=edge_index, y=torch.tensor(labels[i], dtype=torch.float), weights=torch.tensor(w, dtype=torch.float) )\n",
    "    graph_list.append(graph)\n",
    "    \n",
    "    \n",
    "\n",
    "# Printing the graph list\n",
    "for idx, graph in enumerate(graph_list):\n",
    "    if idx>3: continue\n",
    "    print(f\"Graph {idx+1}:\")\n",
    "    print(graph)\n",
    "    print()"
   ]
  },
  {
   "cell_type": "code",
   "execution_count": 203,
   "id": "c16b0348-a8bd-427c-8f8e-bfbcad7feb69",
   "metadata": {},
   "outputs": [],
   "source": [
    "import torch\n",
    "import torch.nn as nn\n",
    "import torch.optim as optim\n",
    "import torch_geometric\n",
    "from torch_geometric.data import Data\n",
    "from torch_geometric.nn import GCNConv\n",
    "class GCNModel(nn.Module):\n",
    "    def __init__(self, in_channels, hidden_channels, num_classes):\n",
    "        super(GCNModel, self).__init__()\n",
    "        self.conv1 = GCNConv(in_channels, hidden_channels)\n",
    "        #self.conv2 = GCNConv(hidden_channels, num_classes)\n",
    "        self.conv2 = GCNConv(hidden_channels, hidden_channels)\n",
    "        self.conv3 = GCNConv(hidden_channels, hidden_channels)\n",
    "        self.conv4 = GCNConv(hidden_channels, hidden_channels)\n",
    "        self.conv5 = GCNConv(hidden_channels, num_classes)\n",
    "\n",
    "    def forward(self, x, edge_index):\n",
    "        x = self.conv1(x, edge_index)\n",
    "        x = torch.relu(x)\n",
    "        x = self.conv2(x, edge_index)\n",
    "        x = torch.relu(x)\n",
    "        x = self.conv3(x, edge_index)\n",
    "        x = torch.relu(x)\n",
    "        x = self.conv4(x, edge_index)\n",
    "        x = torch.relu(x)\n",
    "        x = self.conv5(x, edge_index)\n",
    "        \n",
    "        x = nn.functional.sigmoid(x)\n",
    "        #print(\"len->\",len(x))\n",
    "        #print(x)\n",
    "        return x\n",
    "\n",
    "# class GCNModel(nn.Module):\n",
    "#     def __init__(self, in_channels, hidden_channels, num_classes):\n",
    "#         super(GCNModel, self).__init__()\n",
    "#         self.conv1 = GCNConv(in_channels, hidden_channels)\n",
    "#         self.conv2 = GCNConv(hidden_channels, num_classes)\n",
    "\n",
    "#     def forward(self, x_batch, edge_index_batch):\n",
    "#         x_batch = self.conv1(x_batch, edge_index_batch)\n",
    "#         x_batch = torch.relu(x_batch)\n",
    "#         x_batch = self.conv2(x_batch, edge_index_batch)\n",
    "#         return x_batch\n",
    "        \n",
    "# Initialize model, optimizer, and loss function\n",
    "#model = GCNModel(in_channels=3, hidden_channels=64, num_classes=2)\n",
    "model = GCNModel(in_channels=16, hidden_channels=60, num_classes=1)\n",
    "\n",
    "#optimizer = optim.Adam(model.parameters(), lr=0.0007)\n",
    "\n",
    "Adam_weight_decay = 0.001\n",
    "learning_ratio = 0.0006\n",
    "\n",
    "optimizer = torch.optim.AdamW(model.parameters(), lr=learning_ratio , weight_decay=Adam_weight_decay ) \n",
    "\n",
    "\n",
    "criterion = nn.CrossEntropyLoss()"
   ]
  },
  {
   "cell_type": "code",
   "execution_count": 204,
   "id": "1005020f-bc5b-4028-adad-246ed0bfc5f2",
   "metadata": {},
   "outputs": [
    {
     "data": {
      "text/plain": [
       "CrossEntropyLoss()"
      ]
     },
     "execution_count": 204,
     "metadata": {},
     "output_type": "execute_result"
    }
   ],
   "source": [
    "device = torch.device('cuda' if torch.cuda.is_available() else 'cpu')\n",
    "model.to(device)\n",
    "criterion.to(device)"
   ]
  },
  {
   "cell_type": "code",
   "execution_count": 205,
   "id": "454b18f4",
   "metadata": {},
   "outputs": [
    {
     "data": {
      "text/plain": [
       "12302"
      ]
     },
     "execution_count": 205,
     "metadata": {},
     "output_type": "execute_result"
    }
   ],
   "source": [
    "len(graph_list)"
   ]
  },
  {
   "cell_type": "code",
   "execution_count": 206,
   "id": "8c36d09c",
   "metadata": {},
   "outputs": [],
   "source": [
    "size_train = 0.8\n",
    "graphs_test = graph_list[int(len(graph_list)*size_train) : int(len(graph_list))]\n",
    "graph_list = graph_list[0 : int(len(graph_list)*size_train) ]"
   ]
  },
  {
   "cell_type": "code",
   "execution_count": 207,
   "id": "982b8c83",
   "metadata": {},
   "outputs": [
    {
     "data": {
      "text/plain": [
       "9841"
      ]
     },
     "execution_count": 207,
     "metadata": {},
     "output_type": "execute_result"
    }
   ],
   "source": [
    "len(graph_list)"
   ]
  },
  {
   "cell_type": "code",
   "execution_count": 208,
   "id": "06473f91",
   "metadata": {},
   "outputs": [
    {
     "data": {
      "text/plain": [
       "2461"
      ]
     },
     "execution_count": 208,
     "metadata": {},
     "output_type": "execute_result"
    }
   ],
   "source": [
    "len(graphs_test)"
   ]
  },
  {
   "cell_type": "code",
   "execution_count": 209,
   "id": "717b6901-97ac-444c-8695-195b8a97a32b",
   "metadata": {},
   "outputs": [
    {
     "name": "stderr",
     "output_type": "stream",
     "text": [
      "/home/andrei/anaconda3/envs/gnn_scripts/lib/python3.11/site-packages/torch_geometric/deprecation.py:22: UserWarning: 'data.DataLoader' is deprecated, use 'loader.DataLoader' instead\n",
      "  warnings.warn(out)\n"
     ]
    }
   ],
   "source": [
    "#from torch.utils.data import DataLoader\n",
    "from torch_geometric.data import DataListLoader, DataLoader\n",
    "#from torch_geometric.loader import DataListLoader, DataLoader\n",
    "\n",
    "\n",
    "dataloader = DataLoader(graph_list, batch_size=1, shuffle=True)\n",
    "dataloader_test = DataLoader(graphs_test, batch_size=1, shuffle=True)\n"
   ]
  },
  {
   "cell_type": "code",
   "execution_count": 210,
   "id": "dff247fe",
   "metadata": {},
   "outputs": [
    {
     "data": {
      "text/plain": [
       "9841"
      ]
     },
     "execution_count": 210,
     "metadata": {},
     "output_type": "execute_result"
    }
   ],
   "source": [
    "len(dataloader)"
   ]
  },
  {
   "cell_type": "code",
   "execution_count": 211,
   "id": "fd277771-1071-409c-aeb6-b6e08d5855d9",
   "metadata": {},
   "outputs": [
    {
     "data": {
      "text/plain": [
       "'  \\n# Training loop\\nfor epoch in range(30):\\n    for data in graph_list:\\n        data = data.to(device)\\n        model.train()\\n        optimizer.zero_grad()\\n        out = model(data.x, data.edge_index)\\n        out = out.view(-1, out.shape[-1])\\n        labels = torch.tensor(data.y, dtype=torch.long).to(device) \\n        print(out.shape)\\n        #print(labels.shape)\\n        loss = criterion(out, labels)\\n        loss.backward()\\n        optimizer.step()\\n'"
      ]
     },
     "execution_count": 211,
     "metadata": {},
     "output_type": "execute_result"
    }
   ],
   "source": [
    "'''  \n",
    "# Training loop\n",
    "for epoch in range(30):\n",
    "    for data in graph_list:\n",
    "        data = data.to(device)\n",
    "        model.train()\n",
    "        optimizer.zero_grad()\n",
    "        out = model(data.x, data.edge_index)\n",
    "        out = out.view(-1, out.shape[-1])\n",
    "        labels = torch.tensor(data.y, dtype=torch.long).to(device) \n",
    "        print(out.shape)\n",
    "        #print(labels.shape)\n",
    "        loss = criterion(out, labels)\n",
    "        loss.backward()\n",
    "        optimizer.step()\n",
    "''' "
   ]
  },
  {
   "cell_type": "code",
   "execution_count": 212,
   "id": "bf7fb52e-8b72-4446-81e2-9fb35b08b6c4",
   "metadata": {},
   "outputs": [
    {
     "name": "stderr",
     "output_type": "stream",
     "text": [
      "/tmp/ipykernel_164567/4007425669.py:25: UserWarning: To copy construct from a tensor, it is recommended to use sourceTensor.clone().detach() or sourceTensor.clone().detach().requires_grad_(True), rather than torch.tensor(sourceTensor).\n",
      "  labels = torch.tensor(data.y, dtype=torch.float).to(device)\n",
      "/tmp/ipykernel_164567/4007425669.py:27: UserWarning: To copy construct from a tensor, it is recommended to use sourceTensor.clone().detach() or sourceTensor.clone().detach().requires_grad_(True), rather than torch.tensor(sourceTensor).\n",
      "  ww = torch.tensor(data.weights, dtype=torch.float).to(device)\n"
     ]
    },
    {
     "name": "stdout",
     "output_type": "stream",
     "text": [
      "Epoch [1/60], Loss_train: 15940.6397\n"
     ]
    },
    {
     "name": "stderr",
     "output_type": "stream",
     "text": [
      "/tmp/ipykernel_164567/4007425669.py:60: UserWarning: To copy construct from a tensor, it is recommended to use sourceTensor.clone().detach() or sourceTensor.clone().detach().requires_grad_(True), rather than torch.tensor(sourceTensor).\n",
      "  labels = torch.tensor(data.y, dtype=torch.float).to(device)\n",
      "/tmp/ipykernel_164567/4007425669.py:62: UserWarning: To copy construct from a tensor, it is recommended to use sourceTensor.clone().detach() or sourceTensor.clone().detach().requires_grad_(True), rather than torch.tensor(sourceTensor).\n",
      "  ww = torch.tensor(data.weights, dtype=torch.float).to(device)\n"
     ]
    },
    {
     "name": "stdout",
     "output_type": "stream",
     "text": [
      "Epoch [1/60], Loss_test: 3418.4430\n",
      "Epoch [2/60], Loss_train: 13987.2149\n",
      "Epoch [2/60], Loss_test: 4054.3007\n",
      "Epoch [3/60], Loss_train: 14290.2788\n",
      "Epoch [3/60], Loss_test: 3371.4008\n",
      "Epoch [4/60], Loss_train: 13726.1357\n",
      "Epoch [4/60], Loss_test: 3476.5794\n",
      "Epoch [5/60], Loss_train: 14769.7990\n",
      "Epoch [5/60], Loss_test: 3374.7273\n",
      "Epoch [6/60], Loss_train: 13755.9346\n",
      "Epoch [6/60], Loss_test: 3348.9167\n",
      "Epoch [7/60], Loss_train: 13758.0566\n",
      "Epoch [7/60], Loss_test: 3753.5295\n",
      "Epoch [8/60], Loss_train: 13887.2284\n",
      "Epoch [8/60], Loss_test: 3377.8536\n",
      "Epoch [9/60], Loss_train: 13482.7125\n",
      "Epoch [9/60], Loss_test: 3337.4211\n",
      "Epoch [10/60], Loss_train: 13436.7716\n",
      "Epoch [10/60], Loss_test: 3348.5116\n",
      "Epoch [11/60], Loss_train: 13493.8396\n",
      "Epoch [11/60], Loss_test: 3383.7853\n",
      "Epoch [12/60], Loss_train: 13475.5201\n",
      "Epoch [12/60], Loss_test: 3346.8248\n",
      "Epoch [13/60], Loss_train: 13780.0944\n",
      "Epoch [13/60], Loss_test: 3401.9332\n",
      "Epoch [14/60], Loss_train: 13915.4218\n",
      "Epoch [14/60], Loss_test: 3490.0775\n",
      "Epoch [15/60], Loss_train: 13542.7165\n",
      "Epoch [15/60], Loss_test: 3329.1251\n",
      "Epoch [16/60], Loss_train: 13647.0888\n",
      "Epoch [16/60], Loss_test: 3605.5976\n",
      "Epoch [17/60], Loss_train: 13896.0267\n",
      "Epoch [17/60], Loss_test: 3322.3176\n",
      "Epoch [18/60], Loss_train: 13742.8849\n",
      "Epoch [18/60], Loss_test: 3314.4027\n",
      "Epoch [19/60], Loss_train: 13399.5630\n",
      "Epoch [19/60], Loss_test: 3345.2443\n",
      "Epoch [20/60], Loss_train: 13345.4962\n",
      "Epoch [20/60], Loss_test: 3319.5612\n",
      "Epoch [21/60], Loss_train: 13306.6528\n",
      "Epoch [21/60], Loss_test: 3407.4710\n",
      "Epoch [22/60], Loss_train: 13321.7962\n",
      "Epoch [22/60], Loss_test: 3340.6435\n",
      "Epoch [23/60], Loss_train: 13337.1774\n",
      "Epoch [23/60], Loss_test: 3686.6409\n",
      "Epoch [24/60], Loss_train: 13582.0709\n",
      "Epoch [24/60], Loss_test: 3332.1097\n",
      "Epoch [25/60], Loss_train: 13326.0655\n",
      "Epoch [25/60], Loss_test: 3750.6576\n",
      "Epoch [26/60], Loss_train: 13820.4978\n",
      "Epoch [26/60], Loss_test: 3325.1933\n",
      "Epoch [27/60], Loss_train: 13337.7859\n",
      "Epoch [27/60], Loss_test: 3356.8500\n",
      "Epoch [28/60], Loss_train: 13439.0189\n",
      "Epoch [28/60], Loss_test: 3328.8309\n",
      "Epoch [29/60], Loss_train: 13318.7635\n",
      "Epoch [29/60], Loss_test: 3351.7002\n",
      "Epoch [30/60], Loss_train: 13201.7011\n",
      "Epoch [30/60], Loss_test: 3295.3308\n",
      "Epoch [31/60], Loss_train: 13195.0003\n",
      "Epoch [31/60], Loss_test: 3304.5882\n",
      "Epoch [32/60], Loss_train: 13293.9994\n",
      "Epoch [32/60], Loss_test: 3454.0434\n",
      "Epoch [33/60], Loss_train: 13228.1671\n",
      "Epoch [33/60], Loss_test: 3300.7782\n",
      "Epoch [34/60], Loss_train: 13076.3410\n",
      "Epoch [34/60], Loss_test: 3308.1262\n",
      "Epoch [35/60], Loss_train: 13254.7446\n",
      "Epoch [35/60], Loss_test: 3306.3925\n",
      "Epoch [36/60], Loss_train: 13123.1458\n",
      "Epoch [36/60], Loss_test: 3319.3876\n",
      "Epoch [37/60], Loss_train: 13130.9482\n",
      "Epoch [37/60], Loss_test: 3301.0291\n",
      "Epoch [38/60], Loss_train: 13182.8841\n",
      "Epoch [38/60], Loss_test: 3290.6752\n",
      "Epoch [39/60], Loss_train: 13075.2498\n",
      "Epoch [39/60], Loss_test: 3556.4567\n",
      "Epoch [40/60], Loss_train: 13168.2101\n",
      "Epoch [40/60], Loss_test: 3298.5396\n",
      "Epoch [41/60], Loss_train: 13075.4907\n",
      "Epoch [41/60], Loss_test: 3325.1637\n",
      "Epoch [42/60], Loss_train: 13155.1375\n",
      "Epoch [42/60], Loss_test: 3359.6555\n",
      "Epoch [43/60], Loss_train: 13088.5445\n",
      "Epoch [43/60], Loss_test: 3301.1020\n",
      "Epoch [44/60], Loss_train: 13171.2569\n",
      "Epoch [44/60], Loss_test: 3286.7300\n",
      "Epoch [45/60], Loss_train: 13089.3058\n",
      "Epoch [45/60], Loss_test: 3300.2864\n",
      "Epoch [46/60], Loss_train: 13033.6456\n",
      "Epoch [46/60], Loss_test: 3289.2366\n",
      "Epoch [47/60], Loss_train: 13110.9910\n",
      "Epoch [47/60], Loss_test: 3296.9314\n",
      "Epoch [48/60], Loss_train: 13047.2197\n",
      "Epoch [48/60], Loss_test: 3312.7525\n",
      "Epoch [49/60], Loss_train: 13092.0279\n",
      "Epoch [49/60], Loss_test: 3298.3552\n",
      "Epoch [50/60], Loss_train: 13070.8236\n",
      "Epoch [50/60], Loss_test: 3297.1921\n",
      "Epoch [51/60], Loss_train: 13040.2097\n",
      "Epoch [51/60], Loss_test: 3290.1359\n",
      "Epoch [52/60], Loss_train: 12978.0124\n",
      "Epoch [52/60], Loss_test: 3275.7578\n",
      "Epoch [53/60], Loss_train: 12956.5602\n",
      "Epoch [53/60], Loss_test: 3290.8378\n",
      "Epoch [54/60], Loss_train: 12984.2032\n",
      "Epoch [54/60], Loss_test: 3295.9787\n",
      "Epoch [55/60], Loss_train: 13030.4021\n",
      "Epoch [55/60], Loss_test: 3297.4797\n",
      "Epoch [56/60], Loss_train: 13030.6923\n",
      "Epoch [56/60], Loss_test: 3286.1645\n",
      "Epoch [57/60], Loss_train: 12921.5818\n",
      "Epoch [57/60], Loss_test: 3280.4298\n",
      "Epoch [58/60], Loss_train: 12900.2603\n",
      "Epoch [58/60], Loss_test: 3269.9113\n",
      "Epoch [59/60], Loss_train: 13072.9435\n",
      "Epoch [59/60], Loss_test: 3302.0522\n",
      "Epoch [60/60], Loss_train: 12918.3799\n",
      "Epoch [60/60], Loss_test: 3513.8261\n"
     ]
    }
   ],
   "source": [
    "num_epochs = 60\n",
    "for epoch in range(num_epochs):\n",
    "    model.train()\n",
    "    epoch_loss = 0.0\n",
    "    \n",
    "    count_loader = 0\n",
    "    graph_count = 0\n",
    "    optimizer.zero_grad()\n",
    "    batch_size = 120\n",
    "    \n",
    "    loss = 0\n",
    "    \n",
    "    for data in dataloader:\n",
    "#    for data in graph_list:\n",
    "        \n",
    "        data = data.to(device)  # Move batch data to the same device as model\n",
    "        count_loader += 1\n",
    "                \n",
    "        #optimizer.zero_grad()\n",
    "            \n",
    "        out = model(data.x, data.edge_index)\n",
    "        out = out.view(-1, out.shape[-1])\n",
    "        \n",
    "        #labels = torch.tensor(data.y, dtype=torch.long).to(device) \n",
    "        labels = torch.tensor(data.y, dtype=torch.float).to(device) \n",
    "        labels = torch.reshape(labels, (int(list(labels.shape)[0]),1))\n",
    "        ww = torch.tensor(data.weights, dtype=torch.float).to(device)\n",
    "        ww = torch.reshape(ww, (int(list(labels.shape)[0]),1))\n",
    "\n",
    "        #print(out.dtype)\n",
    "        #print(labels.dtype)\n",
    "        #loss = criterion(out, labels)\n",
    "        #loss += torch.nn.functional.binary_cross_entropy(out, labels) \n",
    "        loss += torch.nn.functional.binary_cross_entropy(out, labels, weight = ww) \n",
    "        \n",
    "        if (count_loader+1)%batch_size==0: \n",
    "            \n",
    "            if (count_loader+1)%(batch_size*100)==0 : print(\"count_loader->\",count_loader, \"   loss->\",loss)\n",
    "            loss.backward()\n",
    "            optimizer.step()\n",
    "            epoch_loss += loss.item()\n",
    "            loss = 0\n",
    "            optimizer.zero_grad()\n",
    "        #loss.backward()\n",
    "        #optimizer.step()\n",
    "        \n",
    "        #epoch_loss += loss.item()\n",
    "    \n",
    "    #print(\",,,\",count_loader)\n",
    "    print(f'Epoch [{epoch+1}/{num_epochs}], Loss_train: {epoch_loss:.4f}')\n",
    "\n",
    "    epoch_loss = 0.0\n",
    "    model.eval()\n",
    "    nodes_out = torch.tensor([])\n",
    "    labels_test = torch.tensor([])\n",
    "    for data in graphs_test:\n",
    "        data = data.to(device)  # Move batch data to the same device as model\n",
    "        out = model(data.x, data.edge_index)\n",
    "        out = out.view(-1, out.shape[-1])\n",
    "        labels = torch.tensor(data.y, dtype=torch.float).to(device) \n",
    "        labels = torch.reshape(labels, (int(list(labels.shape)[0]),1))\n",
    "        ww = torch.tensor(data.weights, dtype=torch.float).to(device)\n",
    "        ww = torch.reshape(ww, (int(list(labels.shape)[0]),1))\n",
    "\n",
    "        nodes_out = torch.cat((nodes_out, out), 0)\n",
    "        labels_test = torch.cat((labels_test, labels), 0)\n",
    "        #loss = torch.nn.functional.binary_cross_entropy(out, labels)\n",
    "        loss = torch.nn.functional.binary_cross_entropy(out, labels, weight = ww)\n",
    "        # weights\n",
    "        epoch_loss += loss.item()\n",
    "    print(f'Epoch [{epoch+1}/{num_epochs}], Loss_test: {epoch_loss:.4f}')\n",
    "    \n"
   ]
  },
  {
   "cell_type": "code",
   "execution_count": 213,
   "id": "c1d44e11",
   "metadata": {},
   "outputs": [
    {
     "name": "stderr",
     "output_type": "stream",
     "text": [
      "/tmp/ipykernel_164567/4162001559.py:11: UserWarning: To copy construct from a tensor, it is recommended to use sourceTensor.clone().detach() or sourceTensor.clone().detach().requires_grad_(True), rather than torch.tensor(sourceTensor).\n",
      "  labels = torch.tensor(data.y, dtype=torch.float).to(device)\n"
     ]
    },
    {
     "name": "stdout",
     "output_type": "stream",
     "text": [
      "Epoch [60/60], Loss: 2356.8782\n"
     ]
    }
   ],
   "source": [
    "epoch_loss = 0.0\n",
    "model.eval()\n",
    "nodes_out = torch.tensor([])\n",
    "labels_test = torch.tensor([])\n",
    "\n",
    "#for data in graph_list:\n",
    "for data in graphs_test:\n",
    "    data = data.to(device)  # Move batch data to the same device as model\n",
    "    out = model(data.x, data.edge_index)\n",
    "    out = out.view(-1, out.shape[-1])\n",
    "    labels = torch.tensor(data.y, dtype=torch.float).to(device) \n",
    "    labels = torch.reshape(labels, (int(list(labels.shape)[0]),1))\n",
    "    \n",
    "    nodes_out = torch.cat((nodes_out, out), 0)\n",
    "    labels_test = torch.cat((labels_test, labels), 0)\n",
    "    loss = torch.nn.functional.binary_cross_entropy(out, labels)\n",
    "    epoch_loss += loss.item()\n",
    "print(f'Epoch [{epoch+1}/{num_epochs}], Loss: {epoch_loss:.4f}')"
   ]
  },
  {
   "cell_type": "code",
   "execution_count": 214,
   "id": "b97b1891",
   "metadata": {},
   "outputs": [
    {
     "data": {
      "text/plain": [
       "tensor([[0.3559],\n",
       "        [0.3760],\n",
       "        [0.3986],\n",
       "        ...,\n",
       "        [0.5535],\n",
       "        [0.5667],\n",
       "        [0.5789]], grad_fn=<CatBackward0>)"
      ]
     },
     "execution_count": 214,
     "metadata": {},
     "output_type": "execute_result"
    }
   ],
   "source": [
    "nodes_out"
   ]
  },
  {
   "cell_type": "code",
   "execution_count": 215,
   "id": "d706ce67",
   "metadata": {},
   "outputs": [
    {
     "data": {
      "text/plain": [
       "tensor([0.3559, 0.3760, 0.3986,  ..., 0.5535, 0.5667, 0.5789],\n",
       "       grad_fn=<IndexBackward0>)"
      ]
     },
     "execution_count": 215,
     "metadata": {},
     "output_type": "execute_result"
    }
   ],
   "source": [
    "nodes_out[labels_test<0.5]"
   ]
  },
  {
   "cell_type": "code",
   "execution_count": 216,
   "id": "ba954f8f",
   "metadata": {},
   "outputs": [
    {
     "data": {
      "text/plain": [
       "tensor([0.3948, 0.4057, 0.4451,  ..., 0.5289, 0.6042, 0.3966],\n",
       "       grad_fn=<IndexBackward0>)"
      ]
     },
     "execution_count": 216,
     "metadata": {},
     "output_type": "execute_result"
    }
   ],
   "source": [
    "nodes_out[labels_test>0.5]"
   ]
  },
  {
   "cell_type": "code",
   "execution_count": 217,
   "id": "464a1df3",
   "metadata": {},
   "outputs": [
    {
     "name": "stdout",
     "output_type": "stream",
     "text": [
      "mean score Pileup-> tensor(0.6906, grad_fn=<MeanBackward0>) \n",
      " mean score NoPileup-> tensor(0.5921, grad_fn=<MeanBackward0>)\n"
     ]
    }
   ],
   "source": [
    "print(\"mean score Pileup->\",torch.mean(nodes_out[labels_test>0.5]), \"\\n\" , \"mean score NoPileup->\",torch.mean(nodes_out[labels_test<0.5]))"
   ]
  },
  {
   "cell_type": "code",
   "execution_count": 218,
   "id": "0228ad86-966a-4b08-ab01-7996a3bd2ab5",
   "metadata": {},
   "outputs": [],
   "source": [
    "def VecROC(VEC):\n",
    "    VEC_sum=0\n",
    "    bkg_sum=0\n",
    "    VEC_out = np.zeros(len(VEC))\n",
    "    #for i in range (len(VEC)-1,-1,-1 ):\n",
    "    for i in range (0,len(VEC),1 ):\n",
    "        VEC_sum += VEC[i]\n",
    "        #VEC_out.append(VEC_sum) \n",
    "        VEC_out[i] = VEC_sum\n",
    "    return VEC_out/VEC_sum\n",
    "\n",
    "number_bins = 100\n",
    "\n",
    "out_NoPile = nodes_out[labels_test<0.5].detach().numpy()\n",
    "out_Pile = nodes_out[labels_test>0.5].detach().numpy()\n",
    "\n",
    "hist_NoPile = np.histogram( out_NoPile , bins=number_bins , range=(0,1) )#, weights = weight_good  )\n",
    "hist_Pile = np.histogram( out_Pile , bins=number_bins , range=(0,1) )"
   ]
  },
  {
   "cell_type": "code",
   "execution_count": 219,
   "id": "ca229842",
   "metadata": {},
   "outputs": [
    {
     "data": {
      "image/png": "[encoded data removed]",
      "text/plain": [
       "<Figure size 432x288 with 1 Axes>"
      ]
     },
     "metadata": {
      "needs_background": "light"
     },
     "output_type": "display_data"
    }
   ],
   "source": [
    "import matplotlib.pyplot as plt\n",
    "ROC_NoPile = VecROC(hist_NoPile[0])\n",
    "ROC_Pile = VecROC(hist_Pile[0])\n",
    "fig, ax = plt.subplots()\n",
    "ax.plot(ROC_Pile, ROC_NoPile)\n",
    "ax.plot([0.0, 1.0], [0.0, 1.0])\n",
    "plt.show()"
   ]
  },
  {
   "cell_type": "code",
   "execution_count": 220,
   "id": "b8b10f44",
   "metadata": {},
   "outputs": [
    {
     "data": {
      "image/png": "[encoded data removed]",
      "text/plain": [
       "<Figure size 432x288 with 1 Axes>"
      ]
     },
     "metadata": {
      "needs_background": "light"
     },
     "output_type": "display_data"
    }
   ],
   "source": [
    "import matplotlib.pyplot as plt\n",
    "ROC_NoPile = VecROC(hist_NoPile[0])\n",
    "ROC_Pile = VecROC(hist_Pile[0])\n",
    "fig, ax = plt.subplots()\n",
    "#ax.plot(ROC_Pile[5:], 1/ROC_NoPile[5:])\n",
    "\n",
    "ax.plot(ROC_NoPile[45:], 1/ROC_Pile[45:])\n",
    "plt.axvline(x = 0.9 , color = 'green')\n",
    "plt.axhline(y = 1.5 , color = 'black')\n",
    "plt.show()"
   ]
  },
  {
   "cell_type": "code",
   "execution_count": null,
   "id": "fee9e145",
   "metadata": {},
   "outputs": [],
   "source": []
  },
  {
   "cell_type": "code",
   "execution_count": null,
   "id": "1e3ed438",
   "metadata": {},
   "outputs": [],
   "source": []
  },
  {
   "cell_type": "code",
   "execution_count": 221,
   "id": "d0ed590b",
   "metadata": {},
   "outputs": [
    {
     "data": {
      "image/png": "[encoded data removed]",
      "text/plain": [
       "<Figure size 432x288 with 1 Axes>"
      ]
     },
     "metadata": {
      "needs_background": "light"
     },
     "output_type": "display_data"
    }
   ],
   "source": [
    "import matplotlib.pyplot as plt\n",
    "ROC_NoPile = VecROC(hist_NoPile[0])\n",
    "ROC_Pile = VecROC(hist_Pile[0])\n",
    "fig, ax = plt.subplots()\n",
    "ax.plot(ROC_Pile, ROC_NoPile)\n",
    "ax.plot([0.0, 1.0], [0.0, 1.0])\n",
    "plt.show()"
   ]
  },
  {
   "cell_type": "code",
   "execution_count": 222,
   "id": "24eaa1e1-5d63-4f20-afef-b189e3d4ae7c",
   "metadata": {},
   "outputs": [
    {
     "ename": "NameError",
     "evalue": "name 'df' is not defined",
     "output_type": "error",
     "traceback": [
      "\u001b[0;31m---------------------------------------------------------------------------\u001b[0m",
      "\u001b[0;31mNameError\u001b[0m                                 Traceback (most recent call last)",
      "Cell \u001b[0;32mIn[222], line 1\u001b[0m\n\u001b[0;32m----> 1\u001b[0m \u001b[38;5;28mlen\u001b[39m(\u001b[38;5;28mlist\u001b[39m(np\u001b[38;5;241m.\u001b[39mwhere(np\u001b[38;5;241m.\u001b[39marray(df[df[\u001b[38;5;124m\"\u001b[39m\u001b[38;5;124meventNumber\u001b[39m\u001b[38;5;124m\"\u001b[39m]\u001b[38;5;241m==\u001b[39m\u001b[38;5;241m47081807\u001b[39m]\u001b[38;5;241m.\u001b[39mcluster_ENG_CALIB_TOT\u001b[38;5;241m.\u001b[39mvalues) \u001b[38;5;241m==\u001b[39m \u001b[38;5;241m0\u001b[39m, \u001b[38;5;241m1\u001b[39m, \u001b[38;5;241m0\u001b[39m)))\n",
      "\u001b[0;31mNameError\u001b[0m: name 'df' is not defined"
     ]
    }
   ],
   "source": [
    "len(list(np.where(np.array(df[df[\"eventNumber\"]==47081807].cluster_ENG_CALIB_TOT.values) == 0, 1, 0)))"
   ]
  },
  {
   "cell_type": "code",
   "execution_count": null,
   "id": "7506ddaa-96bd-4532-b535-6c8ce7b4e588",
   "metadata": {},
   "outputs": [],
   "source": [
    "eventNumbers"
   ]
  },
  {
   "cell_type": "code",
   "execution_count": null,
   "id": "f41f1af4-2979-4017-b0da-006a968be5aa",
   "metadata": {},
   "outputs": [],
   "source": []
  },
  {
   "cell_type": "code",
   "execution_count": null,
   "id": "24a96909",
   "metadata": {},
   "outputs": [],
   "source": []
  },
  {
   "cell_type": "code",
   "execution_count": null,
   "id": "15ef6deb",
   "metadata": {},
   "outputs": [],
   "source": []
  },
  {
   "cell_type": "code",
   "execution_count": null,
   "id": "5901d288",
   "metadata": {},
   "outputs": [],
   "source": []
  },
  {
   "cell_type": "code",
   "execution_count": null,
   "id": "64c43dc1",
   "metadata": {},
   "outputs": [],
   "source": []
  },
  {
   "cell_type": "code",
   "execution_count": null,
   "id": "ad3bfd99",
   "metadata": {},
   "outputs": [],
   "source": []
  },
  {
   "cell_type": "code",
   "execution_count": null,
   "id": "7941517c",
   "metadata": {},
   "outputs": [],
   "source": []
  },
  {
   "cell_type": "code",
   "execution_count": null,
   "id": "e33da2e7",
   "metadata": {},
   "outputs": [],
   "source": []
  }
 ],
 "metadata": {
  "kernelspec": {
   "display_name": "Python 3 (ipykernel)",
   "language": "python",
   "name": "python3"
  },
  "language_info": {
   "codemirror_mode": {
    "name": "ipython",
    "version": 3
   },
   "file_extension": ".py",
   "mimetype": "text/x-python",
   "name": "python",
   "nbconvert_exporter": "python",
   "pygments_lexer": "ipython3",
   "version": "3.11.4"
  }
 },
 "nbformat": 4,
 "nbformat_minor": 5
}
