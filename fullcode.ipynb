{
 "cells": [
  {
   "cell_type": "code",
   "execution_count": 74,
   "id": "08f9bc62-348c-4de8-9927-7f1a9fcd67d6",
   "metadata": {},
   "outputs": [],
   "source": [
    "import pandas as pd\n",
    "import uproot as ur\n",
    "import numpy as np \n",
    "import matplotlib.pyplot as plt\n",
    "import networkx as nx"
   ]
  },
  {
   "cell_type": "code",
   "execution_count": 179,
   "id": "99aca85a-c0d5-4b2e-96af-3cdbe859cc37",
   "metadata": {},
   "outputs": [
    {
     "name": "stderr",
     "output_type": "stream",
     "text": [
      "/tmp/ipykernel_4295/3536740054.py:2: FutureWarning: In a future version of pandas all arguments of read_csv except for the argument 'filepath_or_buffer' will be keyword-only.\n",
      "  file = pd.read_csv('./fracdata.csv',' ')\n"
     ]
    },
    {
     "data": {
      "text/plain": [
       "Index(['seqNumber', 'runNumber', 'eventNumber', 'avgMu', 'nPrimVtx', 'jetCnt',\n",
       "       'jetCalE', 'jetCalPt', 'jetCalEta', 'jetCalPhi', 'jetRawE', 'jetRawPt',\n",
       "       'jetRawEta', 'jetRawPhi', 'jetNConst', 'truthJetMatchRadius',\n",
       "       'truthJetE', 'truthJetPt', 'truthJetRap', 'truthJetPhi', 'nCluster',\n",
       "       'clusterIndex', 'cluster_nCells', 'cluster_nCells_tot', 'clusterECalib',\n",
       "       'clusterPtCalib', 'clusterEtaCalib', 'clusterPhiCalib',\n",
       "       'cluster_sumCellECalib', 'cluster_fracECalib', 'cluster_fracECalib_ref',\n",
       "       'clusterE', 'clusterPt', 'clusterEta', 'clusterPhi', 'cluster_sumCellE',\n",
       "       'cluster_time', 'cluster_fracE', 'cluster_fracE_ref',\n",
       "       'cluster_EM_PROBABILITY', 'cluster_HAD_WEIGHT', 'cluster_OOC_WEIGHT',\n",
       "       'cluster_DM_WEIGHT', 'cluster_ENG_CALIB_TOT', 'cluster_ENG_CALIB_OUT_T',\n",
       "       'cluster_ENG_CALIB_OUT_L', 'cluster_ENG_CALIB_OUT_M',\n",
       "       'cluster_ENG_CALIB_DEAD_T', 'cluster_ENG_CALIB_DEAD_L',\n",
       "       'cluster_ENG_CALIB_DEAD_M', 'cluster_ENG_CALIB_DEAD_TOT',\n",
       "       'cluster_ENG_CALIB_FRAC_EM', 'cluster_ENG_CALIB_FRAC_HAD',\n",
       "       'cluster_ENG_CALIB_FRAC_REST', 'cluster_CENTER_MAG',\n",
       "       'cluster_FIRST_ENG_DENS', 'cluster_FIRST_PHI', 'cluster_FIRST_ETA',\n",
       "       'cluster_SECOND_R', 'cluster_SECOND_LAMBDA', 'cluster_DELTA_PHI',\n",
       "       'cluster_DELTA_THETA', 'cluster_DELTA_ALPHA', 'cluster_CENTER_X',\n",
       "       'cluster_CENTER_Y', 'cluster_CENTER_Z', 'cluster_CENTER_LAMBDA',\n",
       "       'cluster_LATERAL', 'cluster_LONGITUDINAL', 'cluster_ENG_FRAC_EM',\n",
       "       'cluster_ENG_FRAC_MAX', 'cluster_ENG_FRAC_CORE',\n",
       "       'cluster_SECOND_ENG_DENS', 'cluster_ISOLATION', 'cluster_ENG_BAD_CELLS',\n",
       "       'cluster_N_BAD_CELLS', 'cluster_N_BAD_CELLS_CORR',\n",
       "       'cluster_BAD_CELLS_CORR_E', 'cluster_BADLARQ_FRAC', 'cluster_ENG_POS',\n",
       "       'cluster_SIGNIFICANCE', 'cluster_CELL_SIGNIFICANCE',\n",
       "       'cluster_CELL_SIG_SAMPLING', 'cluster_AVG_LAR_Q', 'cluster_AVG_TILE_Q',\n",
       "       'cluster_ENG_BAD_HV_CELLS', 'cluster_N_BAD_HV_CELLS', 'cluster_PTD',\n",
       "       'cluster_MASS', 'cluster_SECOND_TIME'],\n",
       "      dtype='object')"
      ]
     },
     "execution_count": 179,
     "metadata": {},
     "output_type": "execute_result"
    }
   ],
   "source": [
    "#file = ur.open('/home/jmsardain/JetCalib/Akt4EMTopo.topo_cluster.root')[\"ClusterTree\"]\n",
    "file = pd.read_csv('./fracdata.csv',' ')\n",
    "\n",
    "#df = file.arrays(library=\"pd\")\n",
    "df1 = file.head(80000)\n",
    "#df1.columns\n",
    "df1.keys()"
   ]
  },
  {
   "cell_type": "code",
   "execution_count": 180,
   "id": "1f5ae5bf",
   "metadata": {},
   "outputs": [],
   "source": [
    "df1 = file.head(70000)\n"
   ]
  },
  {
   "cell_type": "code",
   "execution_count": 181,
   "id": "d7cbd19f",
   "metadata": {},
   "outputs": [],
   "source": [
    "clusterE = [] \n",
    "clusterEta = []\n",
    "cluster_time = []\n",
    "labels = [] \n",
    "test = []\n",
    "df = df1\n",
    "#df1[[ 'eventNumber','jetCnt']][:35]"
   ]
  },
  {
   "cell_type": "code",
   "execution_count": 182,
   "id": "b11ae0d0",
   "metadata": {},
   "outputs": [],
   "source": [
    "#for event in eventNumbers:\n",
    "tempE = []\n",
    "tempEta = []\n",
    "temp_time = []\n",
    "temp_labels = []\n",
    "count_jets = 1\n",
    "old_event = df1['jetCnt'][0]\n",
    "old_jetCnt = df1['jetCnt'][0]\n",
    "change_bol = False\n",
    "\n",
    "clusterE = []\n",
    "clusterEta = []\n",
    "cluster_time = []\n",
    "labels = []\n",
    "\n",
    "for index,row in df1.iterrows():\n",
    "    \n",
    "    if old_jetCnt != row['jetCnt']:\n",
    "        old_jetCnt = row['jetCnt']\n",
    "        count_jets = +1\n",
    "        #print(count_jets)\n",
    "        if count_jets == 1:\n",
    "            clusterE.append(tempE)\n",
    "            clusterEta.append(tempEta)\n",
    "            cluster_time.append(temp_time)\n",
    "            labels.append(temp_labels)\n",
    "            #print( len(tempEta) )\n",
    "            tempE = []\n",
    "            tempEta = []\n",
    "            temp_time = []\n",
    "            temp_labels = []\n",
    "    if old_event != row['eventNumber']:\n",
    "        old_event = row['eventNumber']\n",
    "        count_jets = 0\n",
    "        #change = False\n",
    "        \n",
    "    #a = list(df[df[\"eventNumber\"]==event].clusterE.values)\n",
    "    #b = list(df[df[\"eventNumber\"]==event].clusterEtaCalib.values)\n",
    "    #c = list(df[df[\"eventNumber\"]==event].cluster_time.values)\n",
    "    #d = list(np.where(np.array(df[df[\"eventNumber\"]==event].cluster_ENG_CALIB_TOT.values) == 0, 1, 0))\n",
    "    #clusterE.append(a)\n",
    "    #clusterEta.append(b)\n",
    "    #cluster_time.append(c)\n",
    "    #labels.append(d)\n",
    "    tempE.append(row['clusterE'])\n",
    "    tempEta.append(row['clusterEtaCalib'])\n",
    "    temp_time.append(row['cluster_time'])\n",
    "    temp_labels.append( float(row['cluster_ENG_CALIB_TOT'] <= 0) )\n",
    "\n",
    "        "
   ]
  },
  {
   "cell_type": "code",
   "execution_count": 183,
   "id": "c97c6c2c",
   "metadata": {},
   "outputs": [],
   "source": [
    "#labels"
   ]
  },
  {
   "cell_type": "code",
   "execution_count": 184,
   "id": "9518b4b4",
   "metadata": {},
   "outputs": [],
   "source": [
    "## create Dictionary containing data and labels\n",
    "\n",
    "Dictionary_data ={\n",
    "    \"0\": clusterE,\n",
    "    \"1\": clusterEta,\n",
    "    \"2\": cluster_time,\n",
    "    \"label\": labels\n",
    "}"
   ]
  },
  {
   "cell_type": "code",
   "execution_count": 185,
   "id": "fef3c090-9476-4c32-bd8f-517760257a49",
   "metadata": {},
   "outputs": [
    {
     "data": {
      "text/plain": [
       "' \\nclusterE = [] \\nclusterEta = []\\ncluster_time = []\\nlabels = [] \\ntest = []\\n\\neventNumbers =np.array(df.eventNumber.drop_duplicates() )\\n\\nfor event in eventNumbers:\\n    a = list(df[df[\"eventNumber\"]==event].clusterE.values)\\n    b = list(df[df[\"eventNumber\"]==event].clusterEtaCalib.values)\\n    c = list(df[df[\"eventNumber\"]==event].cluster_time.values)\\n    d = list(np.where(np.array(df[df[\"eventNumber\"]==event].cluster_ENG_CALIB_TOT.values) <= 0, 1, 0))\\n    clusterE.append(a)\\n    clusterEta.append(b)\\n    cluster_time.append(c)\\n    labels.append(d)\\n    pass\\nlabels[4]\\n'"
      ]
     },
     "execution_count": 185,
     "metadata": {},
     "output_type": "execute_result"
    }
   ],
   "source": [
    "''' \n",
    "clusterE = [] \n",
    "clusterEta = []\n",
    "cluster_time = []\n",
    "labels = [] \n",
    "test = []\n",
    "\n",
    "eventNumbers =np.array(df.eventNumber.drop_duplicates() )\n",
    "\n",
    "for event in eventNumbers:\n",
    "    a = list(df[df[\"eventNumber\"]==event].clusterE.values)\n",
    "    b = list(df[df[\"eventNumber\"]==event].clusterEtaCalib.values)\n",
    "    c = list(df[df[\"eventNumber\"]==event].cluster_time.values)\n",
    "    d = list(np.where(np.array(df[df[\"eventNumber\"]==event].cluster_ENG_CALIB_TOT.values) <= 0, 1, 0))\n",
    "    clusterE.append(a)\n",
    "    clusterEta.append(b)\n",
    "    cluster_time.append(c)\n",
    "    labels.append(d)\n",
    "    pass\n",
    "labels[4]\n",
    "'''"
   ]
  },
  {
   "cell_type": "code",
   "execution_count": 186,
   "id": "bdbdf519-8c2b-4448-9ba1-dc8e12383108",
   "metadata": {},
   "outputs": [
    {
     "data": {
      "text/plain": [
       "array([2.7440133 , 1.6610148 , 1.6529996 , 1.4050152 , 1.2900134 ,\n",
       "       1.2870045 , 1.1670034 , 0.82288015, 0.7999947 , 0.6720199 ,\n",
       "       0.667981  , 0.568002  , 0.55521667, 0.54399884, 0.533003  ,\n",
       "       0.4959971 , 0.48599795, 0.4459959 , 0.39900026, 0.3789966 ,\n",
       "       0.3120201 , 0.2181782 , 0.11699598])"
      ]
     },
     "execution_count": 186,
     "metadata": {},
     "output_type": "execute_result"
    }
   ],
   "source": [
    "df[df[\"eventNumber\"]==47081045].clusterE.values"
   ]
  },
  {
   "cell_type": "code",
   "execution_count": 188,
   "id": "47a73d3d-6091-4ccf-bb20-490b5e4936ee",
   "metadata": {},
   "outputs": [
    {
     "name": "stdout",
     "output_type": "stream",
     "text": [
      "Graph 1:\n",
      "Data(x=[1, 23, 3], edge_index=[2, 253], y=[23])\n",
      "\n",
      "Graph 2:\n",
      "Data(x=[1, 16, 3], edge_index=[2, 120], y=[16])\n",
      "\n",
      "Graph 3:\n",
      "Data(x=[1, 12, 3], edge_index=[2, 66], y=[12])\n",
      "\n",
      "Graph 4:\n",
      "Data(x=[1, 20, 3], edge_index=[2, 190], y=[20])\n",
      "\n"
     ]
    }
   ],
   "source": [
    "import torch\n",
    "from torch_geometric.data import Data\n",
    "\n",
    "graph_list = []\n",
    "for i in range(len(clusterE)):\n",
    "    num_nodes = len(clusterE[i])\n",
    "    edge_index = torch.tensor([[i, j] for i in range(num_nodes) for j in range(i+1, num_nodes)], dtype=torch.long).t().contiguous()\n",
    "    #print(edge_index)\n",
    "    vec = []\n",
    "    vec.append(np.array([clusterE[i], clusterEta[i], cluster_time[i]]).T)\n",
    "    x = torch.tensor(vec, dtype=torch.float)\n",
    "    \n",
    "    #graph = Data(x=x, edge_index=edge_index, y=labels[i])\n",
    "    graph = Data(x=x, edge_index=edge_index, y=torch.tensor(labels[i], dtype=torch.float))\n",
    "    graph_list.append(graph)\n",
    "\n",
    "# Printing the graph list\n",
    "for idx, graph in enumerate(graph_list):\n",
    "    if idx>3: continue\n",
    "    print(f\"Graph {idx+1}:\")\n",
    "    print(graph)\n",
    "    print()"
   ]
  },
  {
   "cell_type": "code",
   "execution_count": 189,
   "id": "c16b0348-a8bd-427c-8f8e-bfbcad7feb69",
   "metadata": {},
   "outputs": [],
   "source": [
    "import torch\n",
    "import torch.nn as nn\n",
    "import torch.optim as optim\n",
    "import torch_geometric\n",
    "from torch_geometric.data import Data\n",
    "from torch_geometric.nn import GCNConv\n",
    "class GCNModel(nn.Module):\n",
    "    def __init__(self, in_channels, hidden_channels, num_classes):\n",
    "        super(GCNModel, self).__init__()\n",
    "        self.conv1 = GCNConv(in_channels, hidden_channels)\n",
    "        self.conv2 = GCNConv(hidden_channels, num_classes)\n",
    "        \n",
    "    def forward(self, x, edge_index):\n",
    "        x = self.conv1(x, edge_index)\n",
    "        x = torch.relu(x)\n",
    "        x = self.conv2(x, edge_index)\n",
    "        x = nn.functional.sigmoid(x)\n",
    "        #print(\"len->\",len(x))\n",
    "        #print(x)\n",
    "        return x\n",
    "\n",
    "# class GCNModel(nn.Module):\n",
    "#     def __init__(self, in_channels, hidden_channels, num_classes):\n",
    "#         super(GCNModel, self).__init__()\n",
    "#         self.conv1 = GCNConv(in_channels, hidden_channels)\n",
    "#         self.conv2 = GCNConv(hidden_channels, num_classes)\n",
    "\n",
    "#     def forward(self, x_batch, edge_index_batch):\n",
    "#         x_batch = self.conv1(x_batch, edge_index_batch)\n",
    "#         x_batch = torch.relu(x_batch)\n",
    "#         x_batch = self.conv2(x_batch, edge_index_batch)\n",
    "#         return x_batch\n",
    "        \n",
    "# Initialize model, optimizer, and loss function\n",
    "#model = GCNModel(in_channels=3, hidden_channels=64, num_classes=2)\n",
    "model = GCNModel(in_channels=3, hidden_channels=64, num_classes=1)\n",
    "\n",
    "optimizer = optim.Adam(model.parameters(), lr=0.002)\n",
    "criterion = nn.CrossEntropyLoss()"
   ]
  },
  {
   "cell_type": "code",
   "execution_count": 190,
   "id": "1005020f-bc5b-4028-adad-246ed0bfc5f2",
   "metadata": {},
   "outputs": [
    {
     "data": {
      "text/plain": [
       "CrossEntropyLoss()"
      ]
     },
     "execution_count": 190,
     "metadata": {},
     "output_type": "execute_result"
    }
   ],
   "source": [
    "device = torch.device('cuda' if torch.cuda.is_available() else 'cpu')\n",
    "model.to(device)\n",
    "criterion.to(device)"
   ]
  },
  {
   "cell_type": "code",
   "execution_count": 192,
   "id": "81178bc6",
   "metadata": {},
   "outputs": [
    {
     "data": {
      "text/plain": [
       "4305"
      ]
     },
     "execution_count": 192,
     "metadata": {},
     "output_type": "execute_result"
    }
   ],
   "source": [
    "len(graph_list)"
   ]
  },
  {
   "cell_type": "code",
   "execution_count": 203,
   "id": "10a5ef8a",
   "metadata": {},
   "outputs": [],
   "source": [
    "size_train = 0.8\n",
    "graphs_test = graph_list[int(len(graph_list)*size_train) : int(len(graph_list))]\n",
    "graph_list = graph_list[0 : int(len(graph_list)*size_train) ]"
   ]
  },
  {
   "cell_type": "code",
   "execution_count": 208,
   "id": "a38bbbe8",
   "metadata": {},
   "outputs": [
    {
     "data": {
      "text/plain": [
       "3444"
      ]
     },
     "execution_count": 208,
     "metadata": {},
     "output_type": "execute_result"
    }
   ],
   "source": [
    "len(graph_list)"
   ]
  },
  {
   "cell_type": "code",
   "execution_count": 209,
   "id": "171294d6",
   "metadata": {},
   "outputs": [
    {
     "data": {
      "text/plain": [
       "861"
      ]
     },
     "execution_count": 209,
     "metadata": {},
     "output_type": "execute_result"
    }
   ],
   "source": [
    "len(graphs_test)"
   ]
  },
  {
   "cell_type": "code",
   "execution_count": 174,
   "id": "717b6901-97ac-444c-8695-195b8a97a32b",
   "metadata": {},
   "outputs": [],
   "source": [
    "from torch.utils.data import DataLoader\n",
    "dataloader = DataLoader(graph_list, batch_size=512*2, shuffle=True)"
   ]
  },
  {
   "cell_type": "code",
   "execution_count": 175,
   "id": "fd277771-1071-409c-aeb6-b6e08d5855d9",
   "metadata": {},
   "outputs": [
    {
     "data": {
      "text/plain": [
       "'  \\n# Training loop\\nfor epoch in range(30):\\n    for data in graph_list:\\n        data = data.to(device)\\n        model.train()\\n        optimizer.zero_grad()\\n        out = model(data.x, data.edge_index)\\n        out = out.view(-1, out.shape[-1])\\n        labels = torch.tensor(data.y, dtype=torch.long).to(device) \\n        print(out.shape)\\n        #print(labels.shape)\\n        loss = criterion(out, labels)\\n        loss.backward()\\n        optimizer.step()\\n'"
      ]
     },
     "execution_count": 175,
     "metadata": {},
     "output_type": "execute_result"
    }
   ],
   "source": [
    "'''  \n",
    "# Training loop\n",
    "for epoch in range(30):\n",
    "    for data in graph_list:\n",
    "        data = data.to(device)\n",
    "        model.train()\n",
    "        optimizer.zero_grad()\n",
    "        out = model(data.x, data.edge_index)\n",
    "        out = out.view(-1, out.shape[-1])\n",
    "        labels = torch.tensor(data.y, dtype=torch.long).to(device) \n",
    "        print(out.shape)\n",
    "        #print(labels.shape)\n",
    "        loss = criterion(out, labels)\n",
    "        loss.backward()\n",
    "        optimizer.step()\n",
    "''' "
   ]
  },
  {
   "cell_type": "code",
   "execution_count": 176,
   "id": "bf7fb52e-8b72-4446-81e2-9fb35b08b6c4",
   "metadata": {},
   "outputs": [
    {
     "name": "stderr",
     "output_type": "stream",
     "text": [
      "/tmp/ipykernel_4295/108056798.py:14: UserWarning: To copy construct from a tensor, it is recommended to use sourceTensor.clone().detach() or sourceTensor.clone().detach().requires_grad_(True), rather than torch.tensor(sourceTensor).\n",
      "  labels = torch.tensor(data.y, dtype=torch.float).to(device)\n"
     ]
    },
    {
     "name": "stdout",
     "output_type": "stream",
     "text": [
      "Epoch [1/30], Loss: 1702.9592\n",
      "Epoch [2/30], Loss: 1636.3002\n",
      "Epoch [3/30], Loss: 1608.3617\n",
      "Epoch [4/30], Loss: 1593.6787\n",
      "Epoch [5/30], Loss: 1587.8772\n",
      "Epoch [6/30], Loss: 1587.0412\n",
      "Epoch [7/30], Loss: 1584.5668\n",
      "Epoch [8/30], Loss: 1578.4647\n",
      "Epoch [9/30], Loss: 1572.6481\n",
      "Epoch [10/30], Loss: 1566.0281\n",
      "Epoch [11/30], Loss: 1559.9377\n",
      "Epoch [12/30], Loss: 1554.7175\n",
      "Epoch [13/30], Loss: 1550.0015\n",
      "Epoch [14/30], Loss: 1545.6404\n",
      "Epoch [15/30], Loss: 1541.8361\n",
      "Epoch [16/30], Loss: 1538.6231\n",
      "Epoch [17/30], Loss: 1535.8900\n",
      "Epoch [18/30], Loss: 1533.6053\n",
      "Epoch [19/30], Loss: 1531.0526\n",
      "Epoch [20/30], Loss: 1529.4057\n",
      "Epoch [21/30], Loss: 1527.4401\n",
      "Epoch [22/30], Loss: 1525.7395\n",
      "Epoch [23/30], Loss: 1524.3168\n",
      "Epoch [24/30], Loss: 1523.0594\n",
      "Epoch [25/30], Loss: 1521.9392\n",
      "Epoch [26/30], Loss: 1520.9237\n",
      "Epoch [27/30], Loss: 1520.0246\n",
      "Epoch [28/30], Loss: 1519.2035\n",
      "Epoch [29/30], Loss: 1518.4352\n",
      "Epoch [30/30], Loss: 1517.7678\n"
     ]
    }
   ],
   "source": [
    "num_epochs = 30\n",
    "for epoch in range(num_epochs):\n",
    "    model.train()\n",
    "    epoch_loss = 0.0\n",
    "    \n",
    "    for data in graph_list:\n",
    "        data = data.to(device)  # Move batch data to the same device as model\n",
    "        \n",
    "        optimizer.zero_grad()\n",
    "        out = model(data.x, data.edge_index)\n",
    "        out = out.view(-1, out.shape[-1])\n",
    "        \n",
    "        #labels = torch.tensor(data.y, dtype=torch.long).to(device) \n",
    "        labels = torch.tensor(data.y, dtype=torch.float).to(device) \n",
    "        labels = torch.reshape(labels, (int(list(labels.shape)[0]),1))\n",
    "        \n",
    "        #print(out.dtype)\n",
    "        #print(labels.dtype)\n",
    "        #loss = criterion(out, labels)\n",
    "        loss = torch.nn.functional.binary_cross_entropy(out, labels)\n",
    "        \n",
    "        loss.backward()\n",
    "        optimizer.step()\n",
    "        \n",
    "        epoch_loss += loss.item()\n",
    "\n",
    "    print(f'Epoch [{epoch+1}/{num_epochs}], Loss: {epoch_loss:.4f}')\n",
    "\n"
   ]
  },
  {
   "cell_type": "code",
   "execution_count": 213,
   "id": "012a99ca",
   "metadata": {},
   "outputs": [
    {
     "name": "stderr",
     "output_type": "stream",
     "text": [
      "/tmp/ipykernel_4295/2230891263.py:12: UserWarning: To copy construct from a tensor, it is recommended to use sourceTensor.clone().detach() or sourceTensor.clone().detach().requires_grad_(True), rather than torch.tensor(sourceTensor).\n",
      "  labels = torch.tensor(data.y, dtype=torch.float).to(device)\n"
     ]
    },
    {
     "name": "stdout",
     "output_type": "stream",
     "text": [
      "Epoch [30/30], Loss: 1012.6518\n"
     ]
    }
   ],
   "source": [
    "epoch_loss = 0.0\n",
    "model.eval()\n",
    "nodes_out = torch.tensor([])\n",
    "labels_test = torch.tensor([])\n",
    "\n",
    "for data in graphs_test:\n",
    "    data = data.to(device)  # Move batch data to the same device as model\n",
    "    out = model(data.x, data.edge_index)\n",
    "    out = out.view(-1, out.shape[-1])\n",
    "    #labels = torch.tensor(data.y, dtype=torch.long).to(device) \n",
    "    labels = torch.tensor(data.y, dtype=torch.float).to(device) \n",
    "    labels = torch.reshape(labels, (int(list(labels.shape)[0]),1))\n",
    "    \n",
    "    nodes_out = torch.cat((nodes_out, out), 0)\n",
    "    labels_test = torch.cat((labels_test, labels), 0)\n",
    "    \n",
    "    #loss = criterion(out, labels)\n",
    "    loss = torch.nn.functional.binary_cross_entropy(out, labels)\n",
    "    \n",
    "    epoch_loss += loss.item()\n",
    "    \n",
    "print(f'Epoch [{epoch+1}/{num_epochs}], Loss: {epoch_loss:.4f}')"
   ]
  },
  {
   "cell_type": "code",
   "execution_count": 214,
   "id": "427d9959",
   "metadata": {},
   "outputs": [
    {
     "data": {
      "text/plain": [
       "tensor([[0.5004],\n",
       "        [0.4874],\n",
       "        [0.4793],\n",
       "        ...,\n",
       "        [0.8667],\n",
       "        [0.8661],\n",
       "        [0.8657]], grad_fn=<CatBackward0>)"
      ]
     },
     "execution_count": 214,
     "metadata": {},
     "output_type": "execute_result"
    }
   ],
   "source": [
    "nodes_out"
   ]
  },
  {
   "cell_type": "code",
   "execution_count": 222,
   "id": "a36d149c",
   "metadata": {},
   "outputs": [
    {
     "data": {
      "text/plain": [
       "tensor([0.5004, 0.4874, 0.4793,  ..., 0.8667, 0.8661, 0.8657],\n",
       "       grad_fn=<IndexBackward0>)"
      ]
     },
     "execution_count": 222,
     "metadata": {},
     "output_type": "execute_result"
    }
   ],
   "source": [
    "nodes_out[labels_test<0.5]"
   ]
  },
  {
   "cell_type": "code",
   "execution_count": 221,
   "id": "0f7dc003",
   "metadata": {},
   "outputs": [
    {
     "data": {
      "text/plain": [
       "tensor([0.4792, 0.5278, 0.5636,  ..., 0.9024, 0.5193, 0.8711],\n",
       "       grad_fn=<IndexBackward0>)"
      ]
     },
     "execution_count": 221,
     "metadata": {},
     "output_type": "execute_result"
    }
   ],
   "source": [
    "nodes_out[labels_test>0.5]"
   ]
  },
  {
   "cell_type": "code",
   "execution_count": 228,
   "id": "d3a45276",
   "metadata": {},
   "outputs": [
    {
     "name": "stdout",
     "output_type": "stream",
     "text": [
      "mean Pileup-> tensor(0.6380, grad_fn=<MeanBackward0>) \n",
      " mean NoPileup-> tensor(0.5916, grad_fn=<MeanBackward0>)\n"
     ]
    }
   ],
   "source": [
    "print(\"mean Pileup->\",torch.mean(nodes_out[labels_test>0.5]), \"\\n\" , \"mean NoPileup->\",torch.mean(nodes_out[labels_test<0.5]))"
   ]
  },
  {
   "cell_type": "code",
   "execution_count": 229,
   "id": "0228ad86-966a-4b08-ab01-7996a3bd2ab5",
   "metadata": {},
   "outputs": [],
   "source": [
    "def VecROC(VEC):\n",
    "    VEC_sum=0\n",
    "    bkg_sum=0\n",
    "    VEC_out = np.zeros(len(VEC))\n",
    "    #for i in range (len(VEC)-1,-1,-1 ):\n",
    "    for i in range (0,len(VEC),1 ):\n",
    "        VEC_sum += VEC[i]\n",
    "        #VEC_out.append(VEC_sum) \n",
    "        VEC_out[i] = VEC_sum\n",
    "    return VEC_out/VEC_sum\n",
    "\n",
    "number_bins = 100\n",
    "\n",
    "out_NoPile = nodes_out[labels_test<0.5].detach().numpy()\n",
    "out_Pile = nodes_out[labels_test>0.5].detach().numpy()\n",
    "\n",
    "hist_NoPile = np.histogram( out_NoPile , bins=number_bins , range=(0,1) )#, weights = weight_good  )\n",
    "hist_Pile = np.histogram( out_Pile , bins=number_bins , range=(0,1) )"
   ]
  },
  {
   "cell_type": "code",
   "execution_count": 230,
   "id": "18bfdfab",
   "metadata": {},
   "outputs": [
    {
     "data": {
      "image/png": "[encoded data removed]",
      "text/plain": [
       "<Figure size 432x288 with 1 Axes>"
      ]
     },
     "metadata": {
      "needs_background": "light"
     },
     "output_type": "display_data"
    }
   ],
   "source": [
    "import matplotlib.pyplot as plt\n",
    "ROC_NoPile = VecROC(hist_NoPile[0])\n",
    "ROC_Pile = VecROC(hist_Pile[0])\n",
    "fig, ax = plt.subplots()\n",
    "ax.plot(ROC_Pile, ROC_NoPile)\n",
    "plt.show()"
   ]
  },
  {
   "cell_type": "code",
   "execution_count": null,
   "id": "24eaa1e1-5d63-4f20-afef-b189e3d4ae7c",
   "metadata": {},
   "outputs": [],
   "source": [
    "len(list(np.where(np.array(df[df[\"eventNumber\"]==47081807].cluster_ENG_CALIB_TOT.values) == 0, 1, 0)))"
   ]
  },
  {
   "cell_type": "code",
   "execution_count": null,
   "id": "7506ddaa-96bd-4532-b535-6c8ce7b4e588",
   "metadata": {},
   "outputs": [],
   "source": [
    "eventNumbers"
   ]
  },
  {
   "cell_type": "code",
   "execution_count": null,
   "id": "f41f1af4-2979-4017-b0da-006a968be5aa",
   "metadata": {},
   "outputs": [],
   "source": []
  },
  {
   "cell_type": "code",
   "execution_count": null,
   "id": "24a96909",
   "metadata": {},
   "outputs": [],
   "source": []
  },
  {
   "cell_type": "code",
   "execution_count": null,
   "id": "15ef6deb",
   "metadata": {},
   "outputs": [],
   "source": []
  },
  {
   "cell_type": "code",
   "execution_count": null,
   "id": "5901d288",
   "metadata": {},
   "outputs": [],
   "source": []
  },
  {
   "cell_type": "code",
   "execution_count": null,
   "id": "d959d393",
   "metadata": {},
   "outputs": [],
   "source": []
  },
  {
   "cell_type": "code",
   "execution_count": null,
   "id": "4c32ff24",
   "metadata": {},
   "outputs": [],
   "source": []
  },
  {
   "cell_type": "code",
   "execution_count": null,
   "id": "7af19974",
   "metadata": {},
   "outputs": [],
   "source": []
  }
 ],
 "metadata": {
  "kernelspec": {
   "display_name": "Python 3 (ipykernel)",
   "language": "python",
   "name": "python3"
  },
  "language_info": {
   "codemirror_mode": {
    "name": "ipython",
    "version": 3
   },
   "file_extension": ".py",
   "mimetype": "text/x-python",
   "name": "python",
   "nbconvert_exporter": "python",
   "pygments_lexer": "ipython3",
   "version": "3.11.4"
  }
 },
 "nbformat": 4,
 "nbformat_minor": 5
}
