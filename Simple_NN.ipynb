{
 "cells": [
  {
   "cell_type": "code",
   "execution_count": 34,
   "id": "39e3fe40",
   "metadata": {},
   "outputs": [],
   "source": [
    "import pandas as pd\n",
    "import uproot as ur\n",
    "import numpy as np \n",
    "import matplotlib.pyplot as plt\n",
    "import networkx as nx\n",
    "import torch\n",
    "import torch.nn as nn\n",
    "\n",
    "\n",
    "from torch.utils.data import Dataset , DataLoader"
   ]
  },
  {
   "cell_type": "code",
   "execution_count": 35,
   "id": "e163ce34",
   "metadata": {},
   "outputs": [],
   "source": [
    "# N_output -> number of inputs variables\n",
    "N_layer1 = 64\n",
    "N_layer2 = 100\n",
    "N_layer3 = 64\n",
    "N_layer4 = 32\n",
    "\n",
    "do_dropout = True\n",
    "Drop_rate = 0.2"
   ]
  },
  {
   "cell_type": "code",
   "execution_count": 36,
   "id": "e6bd7485",
   "metadata": {},
   "outputs": [
    {
     "name": "stderr",
     "output_type": "stream",
     "text": [
      "/tmp/ipykernel_163840/3330424603.py:1: FutureWarning: In a future version of pandas all arguments of read_csv except for the argument 'filepath_or_buffer' will be keyword-only.\n",
      "  file = pd.read_csv('./fracdata.csv',' ')\n"
     ]
    },
    {
     "data": {
      "text/plain": [
       "Index(['seqNumber', 'runNumber', 'eventNumber', 'avgMu', 'nPrimVtx', 'jetCnt',\n",
       "       'jetCalE', 'jetCalPt', 'jetCalEta', 'jetCalPhi', 'jetRawE', 'jetRawPt',\n",
       "       'jetRawEta', 'jetRawPhi', 'jetNConst', 'truthJetMatchRadius',\n",
       "       'truthJetE', 'truthJetPt', 'truthJetRap', 'truthJetPhi', 'nCluster',\n",
       "       'clusterIndex', 'cluster_nCells', 'cluster_nCells_tot', 'clusterECalib',\n",
       "       'clusterPtCalib', 'clusterEtaCalib', 'clusterPhiCalib',\n",
       "       'cluster_sumCellECalib', 'cluster_fracECalib', 'cluster_fracECalib_ref',\n",
       "       'clusterE', 'clusterPt', 'clusterEta', 'clusterPhi', 'cluster_sumCellE',\n",
       "       'cluster_time', 'cluster_fracE', 'cluster_fracE_ref',\n",
       "       'cluster_EM_PROBABILITY', 'cluster_HAD_WEIGHT', 'cluster_OOC_WEIGHT',\n",
       "       'cluster_DM_WEIGHT', 'cluster_ENG_CALIB_TOT', 'cluster_ENG_CALIB_OUT_T',\n",
       "       'cluster_ENG_CALIB_OUT_L', 'cluster_ENG_CALIB_OUT_M',\n",
       "       'cluster_ENG_CALIB_DEAD_T', 'cluster_ENG_CALIB_DEAD_L',\n",
       "       'cluster_ENG_CALIB_DEAD_M', 'cluster_ENG_CALIB_DEAD_TOT',\n",
       "       'cluster_ENG_CALIB_FRAC_EM', 'cluster_ENG_CALIB_FRAC_HAD',\n",
       "       'cluster_ENG_CALIB_FRAC_REST', 'cluster_CENTER_MAG',\n",
       "       'cluster_FIRST_ENG_DENS', 'cluster_FIRST_PHI', 'cluster_FIRST_ETA',\n",
       "       'cluster_SECOND_R', 'cluster_SECOND_LAMBDA', 'cluster_DELTA_PHI',\n",
       "       'cluster_DELTA_THETA', 'cluster_DELTA_ALPHA', 'cluster_CENTER_X',\n",
       "       'cluster_CENTER_Y', 'cluster_CENTER_Z', 'cluster_CENTER_LAMBDA',\n",
       "       'cluster_LATERAL', 'cluster_LONGITUDINAL', 'cluster_ENG_FRAC_EM',\n",
       "       'cluster_ENG_FRAC_MAX', 'cluster_ENG_FRAC_CORE',\n",
       "       'cluster_SECOND_ENG_DENS', 'cluster_ISOLATION', 'cluster_ENG_BAD_CELLS',\n",
       "       'cluster_N_BAD_CELLS', 'cluster_N_BAD_CELLS_CORR',\n",
       "       'cluster_BAD_CELLS_CORR_E', 'cluster_BADLARQ_FRAC', 'cluster_ENG_POS',\n",
       "       'cluster_SIGNIFICANCE', 'cluster_CELL_SIGNIFICANCE',\n",
       "       'cluster_CELL_SIG_SAMPLING', 'cluster_AVG_LAR_Q', 'cluster_AVG_TILE_Q',\n",
       "       'cluster_ENG_BAD_HV_CELLS', 'cluster_N_BAD_HV_CELLS', 'cluster_PTD',\n",
       "       'cluster_MASS', 'cluster_SECOND_TIME'],\n",
       "      dtype='object')"
      ]
     },
     "execution_count": 36,
     "metadata": {},
     "output_type": "execute_result"
    }
   ],
   "source": [
    "file = pd.read_csv('./fracdata.csv',' ')\n",
    "\n",
    "#df = file.arrays(library=\"pd\")\n",
    "df1 = file.head(200000)\n",
    "#df1.columns\n",
    "df1.keys()"
   ]
  },
  {
   "cell_type": "code",
   "execution_count": 201,
   "id": "a1082664",
   "metadata": {},
   "outputs": [
    {
     "data": {
      "text/plain": [
       "\"\\n'cluster_ENG_FRAC_EM',\\n'cluster_FIRST_ENG_DENS',\\n'cluster_LATERAL',\\n'cluster_LONGITUDINAL',\\n'cluster_PTD',\\n'cluster_time',\\n'cluster_ISOLATION',\\n'cluster_SECOND_TIME',\\n'cluster_SIGNIFICANCE',\\n'nPrimVtx',\\n'avgMu'\\n\""
      ]
     },
     "execution_count": 201,
     "metadata": {},
     "output_type": "execute_result"
    }
   ],
   "source": [
    "'''\n",
    "'cluster_ENG_FRAC_EM',\n",
    "'cluster_FIRST_ENG_DENS',\n",
    "'cluster_LATERAL',\n",
    "'cluster_LONGITUDINAL',\n",
    "'cluster_PTD',\n",
    "'cluster_time',\n",
    "'cluster_ISOLATION',\n",
    "'cluster_SECOND_TIME',\n",
    "'cluster_SIGNIFICANCE',\n",
    "'nPrimVtx',\n",
    "'avgMu'\n",
    "'''\n",
    "#df1['cluster_FIRST_ENG_DENS'][29:52]*10**6\n",
    "#df1['avgMu'][62:95]/10\n"
   ]
  },
  {
   "cell_type": "code",
   "execution_count": 223,
   "id": "c14a31b5",
   "metadata": {},
   "outputs": [],
   "source": [
    "#for event in eventNumbers:\n",
    "tempE = []\n",
    "tempEta = []\n",
    "temp_time = []\n",
    "temp_labels = []\n",
    "count_jets = 1\n",
    "old_event = df1['jetCnt'][0]\n",
    "old_jetCnt = df1['jetCnt'][0]\n",
    "change_bol = False\n",
    "\n",
    "clusterE = []\n",
    "clusterEta = []\n",
    "cluster_time = []\n",
    "cluster_CENTER_LAMBDA = []\n",
    "cluster_CENTER_MAG = []\n",
    "clusterPhi = []\n",
    "\n",
    "cluster_ENG_FRAC_EM = []\n",
    "cluster_FIRST_ENG_DENS = []\n",
    "cluster_LATERAL = []\n",
    "cluster_LONGITUDINAL = []\n",
    "cluster_PTD = []\n",
    "cluster_ISOLATION = []\n",
    "cluster_SECOND_TIME = []\n",
    "cluster_SIGNIFICANCE = []\n",
    "nPrimVtx = []\n",
    "avgMu = []\n",
    "\n",
    "labels = []\n",
    "\n",
    "for index,row in df1.iterrows():\n",
    "    \n",
    "    clusterE.append(row['clusterE'])\n",
    "    clusterEta.append(row['clusterEtaCalib'])\n",
    "    cluster_time.append(row['cluster_time']/10)\n",
    "    labels.append( int(row['cluster_ENG_CALIB_TOT'] <= 0) )\n",
    "    cluster_CENTER_LAMBDA.append(row['cluster_CENTER_LAMBDA']/100)\n",
    "    cluster_CENTER_MAG.append(row['cluster_CENTER_MAG']/1000)\n",
    "    clusterPhi.append(row['clusterPhi'])\n",
    "    cluster_ENG_FRAC_EM.append(row['cluster_ENG_FRAC_EM'])\n",
    "    cluster_FIRST_ENG_DENS.append(row['cluster_FIRST_ENG_DENS']*10**6)\n",
    "    #cluster_FIRST_ENG_DENS.append(row['clusterPt'])\n",
    "    \n",
    "    cluster_LATERAL.append(row['cluster_LATERAL'])\n",
    "    cluster_LONGITUDINAL.append(row['cluster_LONGITUDINAL'])\n",
    "    cluster_PTD.append(row['cluster_PTD'])\n",
    "    cluster_ISOLATION.append(row['cluster_ISOLATION'])\n",
    "    cluster_SECOND_TIME.append(row['cluster_SECOND_TIME'])\n",
    "    cluster_SIGNIFICANCE.append(row['cluster_SIGNIFICANCE'])\n",
    "    nPrimVtx.append(row['nPrimVtx'])\n",
    "    avgMu.append(row['avgMu']/10)\n",
    "\n",
    "weights=(np.array(labels) > 0.5)*9 + 1"
   ]
  },
  {
   "cell_type": "code",
   "execution_count": null,
   "id": "16ba559b",
   "metadata": {},
   "outputs": [],
   "source": []
  },
  {
   "cell_type": "code",
   "execution_count": 224,
   "id": "ff0e79ca",
   "metadata": {},
   "outputs": [],
   "source": [
    "## create Dictionary containing data and labels\n",
    "\n",
    "Dictionary_data ={\n",
    "    \"0\": clusterE,\n",
    "    \"1\": clusterEta,\n",
    "    \"2\": cluster_time,\n",
    "    \"3\": cluster_CENTER_LAMBDA,\n",
    "    \"4\": cluster_CENTER_MAG,\n",
    "#    \"5\": clusterPhi,\n",
    "    \"5\": cluster_ENG_FRAC_EM ,\n",
    "    \"6\": cluster_FIRST_ENG_DENS ,\n",
    "    \"7\": cluster_LATERAL ,\n",
    "    \"8\": cluster_LONGITUDINAL ,\n",
    "    \"9\": cluster_PTD ,\n",
    "    \"10\": cluster_ISOLATION ,\n",
    "    \"11\": cluster_SECOND_TIME,\n",
    "    \"12\": cluster_SIGNIFICANCE,\n",
    "    \"13\": nPrimVtx,\n",
    "    \"14\": avgMu,\n",
    "    \"label\": labels\n",
    "}"
   ]
  },
  {
   "cell_type": "code",
   "execution_count": 225,
   "id": "0b50208c",
   "metadata": {},
   "outputs": [
    {
     "data": {
      "text/plain": [
       "200000"
      ]
     },
     "execution_count": 225,
     "metadata": {},
     "output_type": "execute_result"
    }
   ],
   "source": [
    "len(Dictionary_data[\"2\"])"
   ]
  },
  {
   "cell_type": "code",
   "execution_count": 226,
   "id": "d538d867",
   "metadata": {},
   "outputs": [],
   "source": [
    "# Let's go to use an simple Neural Network :3 :3 :3\n",
    "class NN_pileup(nn.Module):\n",
    "    def __init__(self):\n",
    "        super(NN_pileup,self).__init__()\n",
    "\n",
    "        self.Drop = nn.Dropout( Drop_rate ) #0.25 debo testear esto hasta encontrar lo mejor!!!\n",
    "        \n",
    "        self.layer1 = nn.Linear(len(Dictionary_data)-1 ,N_layer1)   \n",
    "        self.layer2 = nn.Linear(N_layer1,N_layer2) \n",
    "        self.layer3 = nn.Linear(N_layer2,N_layer3) \n",
    "        self.layer4 = nn.Linear(N_layer3,1) \n",
    "        #self.layer5 = nn.Linear(N_layer4,1)  \n",
    "        \n",
    "        self.activationReLU = nn.ReLU()\n",
    "        self.activationLeaky = nn.LeakyReLU()\n",
    "        self.activation = nn.Sigmoid()\n",
    "        self.softmax = nn.Softmax(dim=1)\n",
    "\n",
    "    def  forward(self,x): #\"pass the input through each of our operators\"\n",
    "        x = self.layer1(x)\n",
    "        x = self.activationReLU(x)\n",
    "        if do_dropout ==True:\n",
    "            x = self.Drop(x)   ###!!!!!!!!!!!!\n",
    "        \n",
    "        x = self.layer2(x)\n",
    "        x = self.activationReLU(x)\n",
    "        if do_dropout ==True:\n",
    "            x = self.Drop(x)   ###!!!!!!!!!!!!\n",
    "        \n",
    "        x = self.layer3(x)\n",
    "        x = self.activationReLU(x)\n",
    "\n",
    "        if do_dropout ==True:\n",
    "            x = self.Drop(x)   ###!!!!!!!!!!!!\n",
    "        \n",
    "        x = self.layer4(x)\n",
    "        '''\n",
    "        x = self.activationReLU(x)\n",
    "        if do_dropout ==True:\n",
    "            x = self.Drop(x)   ###!!!!!!!!!!!!\n",
    "        \n",
    "        x = self.layer5(x)\n",
    "        '''\n",
    "        x = nn.functional.sigmoid(x)\n",
    "        \n",
    "        return x"
   ]
  },
  {
   "cell_type": "code",
   "execution_count": 227,
   "id": "ff68f7aa",
   "metadata": {},
   "outputs": [],
   "source": [
    "class MyDataSet_train(torch.utils.data.Dataset):\n",
    "    def __init__(self, Dictionary_data):\n",
    "    \n",
    "        #self.filename = filename\n",
    "        self.w = weights\n",
    "        \n",
    "    def __len__(self):\n",
    "        return len(Dictionary_data[\"1\"])\n",
    "    \n",
    "    def __getitem__(self, idx):\n",
    "\n",
    "        features = []\n",
    "        \n",
    "        for i in range (0,len(Dictionary_data)-1):\n",
    "            features.append(Dictionary_data[str(i)][idx])\n",
    "            #print(len(features) )\n",
    "            \n",
    "        #return np.array(features,dtype=\"float32\" ), np.array( Dictionary_data[\"label\"][idx],dtype=\"float32\" )\n",
    "        return np.array(features,dtype=\"float32\" ), np.array( Dictionary_data[\"label\"][idx],dtype=\"float32\"), np.array( weights[idx],dtype=\"float32\")\n"
   ]
  },
  {
   "cell_type": "code",
   "execution_count": 228,
   "id": "1b9fb530",
   "metadata": {},
   "outputs": [
    {
     "data": {
      "text/plain": [
       "(array([ 1.6889977 ,  0.7223266 ,  1.672847  ,  0.6375    ,  1.968     ,\n",
       "         0.71875   ,  1.0375977 ,  0.79296875,  0.69921875,  0.32831237,\n",
       "         0.71484375,  0.9921794 ,  6.03125   , 25.        ,  4.05      ],\n",
       "       dtype=float32),\n",
       " array(0., dtype=float32),\n",
       " array(1., dtype=float32))"
      ]
     },
     "execution_count": 228,
     "metadata": {},
     "output_type": "execute_result"
    }
   ],
   "source": [
    "Data_train = MyDataSet_train( Dictionary_data )\n",
    "\n",
    "Batch_number = 1024*7\n",
    "\n",
    "Data_train[26]"
   ]
  },
  {
   "cell_type": "code",
   "execution_count": 229,
   "id": "e700cba8",
   "metadata": {},
   "outputs": [],
   "source": [
    "size_train = 0.2\n",
    "\n",
    "from sklearn.model_selection import train_test_split\n",
    "\n",
    "\n",
    "Data_train,Data_test = train_test_split(Data_train, test_size = size_train, random_state = 14)\n"
   ]
  },
  {
   "cell_type": "code",
   "execution_count": 230,
   "id": "61ce54ba",
   "metadata": {},
   "outputs": [
    {
     "data": {
      "text/plain": [
       "160000"
      ]
     },
     "execution_count": 230,
     "metadata": {},
     "output_type": "execute_result"
    }
   ],
   "source": [
    "len(Data_train)"
   ]
  },
  {
   "cell_type": "code",
   "execution_count": 231,
   "id": "bd37107b",
   "metadata": {},
   "outputs": [
    {
     "data": {
      "text/plain": [
       "40000"
      ]
     },
     "execution_count": 231,
     "metadata": {},
     "output_type": "execute_result"
    }
   ],
   "source": [
    "len(Data_test)"
   ]
  },
  {
   "cell_type": "code",
   "execution_count": 232,
   "id": "b321da71",
   "metadata": {},
   "outputs": [
    {
     "data": {
      "text/plain": [
       "CrossEntropyLoss()"
      ]
     },
     "execution_count": 232,
     "metadata": {},
     "output_type": "execute_result"
    }
   ],
   "source": [
    "#train_loader = DataLoader(Data_train,batch_size=Batch_number, shuffle=True,num_workers = 3)\n",
    "train_loader = DataLoader(Data_train,batch_size=Batch_number, shuffle=True)\n",
    "test_loader = DataLoader(Data_test,batch_size=Batch_number, shuffle=True)\n",
    "\n",
    "\n",
    "model = NN_pileup()\n",
    "\n",
    "Adam_weight_decay = 0.0015\n",
    "learning_ratio = 0.0006\n",
    "\n",
    "optimizer = torch.optim.AdamW(model.parameters(), lr=learning_ratio , weight_decay=Adam_weight_decay ) \n",
    "criterion = nn.CrossEntropyLoss()\n",
    "\n",
    "\n",
    "#torch.nn.functional.binary_cross_entropy\n",
    "\n",
    "device = torch.device('cuda' if torch.cuda.is_available() else 'cpu')\n",
    "model.to(device)\n",
    "criterion.to(device)"
   ]
  },
  {
   "cell_type": "code",
   "execution_count": 233,
   "id": "2a2ae3e2",
   "metadata": {},
   "outputs": [
    {
     "name": "stdout",
     "output_type": "stream",
     "text": [
      "Epoch [1/30], Loss_train: 35.6220\n",
      "Epoch [2/30], Loss_train: 32.5807\n",
      "Epoch [3/30], Loss_train: 31.8680\n",
      "Epoch [4/30], Loss_train: 30.8763\n",
      "Epoch [5/30], Loss_train: 29.7543\n",
      "Epoch [5/30], Loss_test: 4.2601\n",
      "Epoch [6/30], Loss_train: 33.2762\n",
      "Epoch [7/30], Loss_train: 29.5959\n",
      "Epoch [8/30], Loss_train: 28.7309\n",
      "Epoch [9/30], Loss_train: 28.3026\n",
      "Epoch [10/30], Loss_train: 28.0534\n",
      "Epoch [10/30], Loss_test: 4.2544\n",
      "Epoch [11/30], Loss_train: 31.7051\n",
      "Epoch [12/30], Loss_train: 28.6499\n",
      "Epoch [13/30], Loss_train: 28.1026\n",
      "Epoch [14/30], Loss_train: 27.9986\n",
      "Epoch [15/30], Loss_train: 27.8795\n",
      "Epoch [15/30], Loss_test: 4.2925\n",
      "Epoch [16/30], Loss_train: 30.7515\n",
      "Epoch [17/30], Loss_train: 28.3035\n",
      "Epoch [18/30], Loss_train: 27.8813\n",
      "Epoch [19/30], Loss_train: 27.7905\n",
      "Epoch [20/30], Loss_train: 27.7340\n",
      "Epoch [20/30], Loss_test: 4.2744\n",
      "Epoch [21/30], Loss_train: 30.2135\n",
      "Epoch [22/30], Loss_train: 28.0907\n",
      "Epoch [23/30], Loss_train: 27.7506\n",
      "Epoch [24/30], Loss_train: 27.6511\n",
      "Epoch [25/30], Loss_train: 27.6591\n",
      "Epoch [25/30], Loss_test: 4.3431\n",
      "Epoch [26/30], Loss_train: 29.7237\n",
      "Epoch [27/30], Loss_train: 27.8825\n",
      "Epoch [28/30], Loss_train: 27.6626\n",
      "Epoch [29/30], Loss_train: 27.6255\n",
      "Epoch [30/30], Loss_train: 27.5506\n",
      "Epoch [30/30], Loss_test: 4.2063\n"
     ]
    }
   ],
   "source": [
    "model.train()\n",
    "epoch_loss=0\n",
    "num_epochs= 30\n",
    "for epoch in range(num_epochs):\n",
    "    epoch_loss = 0.0\n",
    "    for data in train_loader:\n",
    "        #data = data.to(device)\n",
    "        #print(data[0])\n",
    "        optimizer.zero_grad()\n",
    "        out = model(data[0])\n",
    "        out = out.view(-1, out.shape[-1])\n",
    "        \n",
    "        #labels = torch.tensor(data.y, dtype=torch.long).to(device) \n",
    "        labels = data[1]\n",
    "        #print(out.shape)\n",
    "        #print(labels.shape)                \n",
    "        labels = torch.reshape(labels, (int(list(labels.shape)[0]),1))\n",
    "        \n",
    "        ww = data[2]\n",
    "        #print(ww)\n",
    "        ww = torch.reshape(ww, (int(list(labels.shape)[0]),1))\n",
    "        \n",
    "        #loss = criterion(out, labels)\n",
    "        #loss = torch.nn.functional.binary_cross_entropy(out, labels)\n",
    "        loss = torch.nn.functional.binary_cross_entropy(out, labels, weight=ww)\n",
    "        #print(loss)\n",
    "        loss.backward()\n",
    "        optimizer.step()\n",
    "        \n",
    "        \n",
    "        \n",
    "        epoch_loss += loss.item()\n",
    "    print(f'Epoch [{epoch+1}/{num_epochs}], Loss_train: {epoch_loss:.4f}')\n",
    "\n",
    "    \n",
    "    epoch_loss = 0.0\n",
    "    model.eval()\n",
    "    nodes_out = torch.tensor([])\n",
    "    labels_test = torch.tensor([])\n",
    "    if (epoch+1)%5==0:\n",
    "        for data in test_loader:\n",
    "            #data = data.to(device)  # Move batch data to the same device as model\n",
    "            out = model(data[0])\n",
    "            out = out.view(-1, out.shape[-1])\n",
    "            labels = data[1] \n",
    "            labels = torch.reshape(labels, (int(list(labels.shape)[0]),1))\n",
    "            loss = torch.nn.functional.binary_cross_entropy(out, labels)\n",
    "    \n",
    "            nodes_out = torch.cat((nodes_out, out), 0)\n",
    "            labels_test = torch.cat((labels_test, labels), 0)    \n",
    "    \n",
    "            epoch_loss += loss.item()\n",
    "        model.train()\n",
    "        print(f'Epoch [{epoch+1}/{num_epochs}], Loss_test: {epoch_loss:.4f}')\n"
   ]
  },
  {
   "cell_type": "code",
   "execution_count": 234,
   "id": "8c493c1a",
   "metadata": {},
   "outputs": [
    {
     "name": "stdout",
     "output_type": "stream",
     "text": [
      "Epoch [30/30], Loss_test: 4.2050\n"
     ]
    }
   ],
   "source": [
    "epoch_loss = 0.0\n",
    "model.eval()\n",
    "nodes_out = torch.tensor([])\n",
    "labels_test = torch.tensor([])\n",
    "#for data in train_loader:\n",
    "for data in test_loader:\n",
    "    #data = data.to(device)  # Move batch data to the same device as model\n",
    "    out = model(data[0])\n",
    "    out = out.view(-1, out.shape[-1])\n",
    "    labels = data[1] \n",
    "    labels = torch.reshape(labels, (int(list(labels.shape)[0]),1))\n",
    "    loss = torch.nn.functional.binary_cross_entropy(out, labels)\n",
    "    \n",
    "    nodes_out = torch.cat((nodes_out, out), 0)\n",
    "    labels_test = torch.cat((labels_test, labels), 0)    \n",
    "    \n",
    "    epoch_loss += loss.item()\n",
    "model.train()\n",
    "print(f'Epoch [{epoch+1}/{num_epochs}], Loss_test: {epoch_loss:.4f}')"
   ]
  },
  {
   "cell_type": "code",
   "execution_count": 235,
   "id": "9ca28f3f",
   "metadata": {},
   "outputs": [],
   "source": [
    "## USANDO Batch_number = 1024*6\n",
    "#Epoch [40/40], Loss_test: 1.7062 -> 6 variables (for 3 variables was almost the same)\n",
    "#Epoch [40/40], Loss_test: 1.6507 ->  all variables\n",
    "\n",
    "## USANDO Batch_number = 1024*7\n",
    "#Epoch [40/40], Loss_test: 1.9691 ->  all variables bigger layers"
   ]
  },
  {
   "cell_type": "code",
   "execution_count": 236,
   "id": "c670cd97",
   "metadata": {},
   "outputs": [
    {
     "data": {
      "text/plain": [
       "34967"
      ]
     },
     "execution_count": 236,
     "metadata": {},
     "output_type": "execute_result"
    }
   ],
   "source": [
    "len(nodes_out[labels_test<0.5])"
   ]
  },
  {
   "cell_type": "code",
   "execution_count": 237,
   "id": "468c9b35",
   "metadata": {},
   "outputs": [
    {
     "name": "stdout",
     "output_type": "stream",
     "text": [
      "mean Pileup-> tensor(0.6751, grad_fn=<MeanBackward0>) \n",
      " mean NoPileup-> tensor(0.4604, grad_fn=<MeanBackward0>)\n"
     ]
    }
   ],
   "source": [
    "print(\"mean Pileup->\",torch.mean(nodes_out[labels_test>0.5]), \"\\n\" , \"mean NoPileup->\",torch.mean(nodes_out[labels_test<0.5]))"
   ]
  },
  {
   "cell_type": "code",
   "execution_count": 238,
   "id": "0446b763",
   "metadata": {},
   "outputs": [],
   "source": [
    "def VecROC(VEC):\n",
    "    VEC_sum=0\n",
    "    bkg_sum=0\n",
    "    VEC_out = np.zeros(len(VEC))\n",
    "    #for i in range (len(VEC)-1,-1,-1 ):\n",
    "    for i in range (0,len(VEC),1 ):\n",
    "        VEC_sum += VEC[i]\n",
    "        #VEC_out.append(VEC_sum) \n",
    "        VEC_out[i] = VEC_sum\n",
    "    return VEC_out/VEC_sum\n",
    "\n",
    "number_bins = 100\n",
    "\n",
    "out_NoPile = nodes_out[labels_test<0.5].detach().numpy()\n",
    "out_Pile = nodes_out[labels_test>0.5].detach().numpy()\n",
    "\n",
    "hist_NoPile = np.histogram( out_NoPile , bins=number_bins , range=(0,1) )#, weights = weight_good  )\n",
    "hist_Pile = np.histogram( out_Pile , bins=number_bins , range=(0,1) )"
   ]
  },
  {
   "cell_type": "code",
   "execution_count": 239,
   "id": "f5fab269",
   "metadata": {},
   "outputs": [],
   "source": [
    "#hist_NoPile\n",
    "#hist_Pile"
   ]
  },
  {
   "cell_type": "code",
   "execution_count": 249,
   "id": "a35bcaa2",
   "metadata": {},
   "outputs": [
    {
     "data": {
      "image/png": "[encoded data removed]",
      "text/plain": [
       "<Figure size 432x288 with 1 Axes>"
      ]
     },
     "metadata": {
      "needs_background": "light"
     },
     "output_type": "display_data"
    }
   ],
   "source": [
    "import matplotlib.pyplot as plt\n",
    "ROC_NoPile = VecROC(hist_NoPile[0])\n",
    "ROC_Pile = VecROC(hist_Pile[0])\n",
    "fig, ax = plt.subplots()\n",
    "ax.plot(ROC_Pile[0:], ROC_NoPile[0:])\n",
    "ax.plot([0.0, 1.0], [0.0, 1.0])\n",
    "\n",
    "plt.axvline(x = 0.80, color = 'green')\n",
    "plt.axhline(y = 0.95, color = 'black')\n",
    "plt.show()\n",
    "## using test data"
   ]
  },
  {
   "cell_type": "code",
   "execution_count": null,
   "id": "bf74ace6",
   "metadata": {},
   "outputs": [],
   "source": []
  },
  {
   "cell_type": "code",
   "execution_count": null,
   "id": "dbf4454e",
   "metadata": {},
   "outputs": [],
   "source": []
  },
  {
   "cell_type": "code",
   "execution_count": 243,
   "id": "9cccc8f9",
   "metadata": {},
   "outputs": [
    {
     "data": {
      "image/png": "[encoded data removed]",
      "text/plain": [
       "<Figure size 432x288 with 1 Axes>"
      ]
     },
     "metadata": {
      "needs_background": "light"
     },
     "output_type": "display_data"
    }
   ],
   "source": [
    "import matplotlib.pyplot as plt\n",
    "ROC_NoPile = VecROC(hist_NoPile[0])\n",
    "ROC_Pile = VecROC(hist_Pile[0])\n",
    "fig, ax = plt.subplots()\n",
    "#ax.plot(ROC_Pile[5:], 1/ROC_NoPile[5:])\n",
    "\n",
    "ax.plot(ROC_NoPile[45:], 1/ROC_Pile[45:])\n",
    "plt.axvline(x = 0.9 , color = 'green')\n",
    "plt.axhline(y = 1.5 , color = 'black')\n",
    "plt.show()"
   ]
  },
  {
   "cell_type": "code",
   "execution_count": 270,
   "id": "02c9489e",
   "metadata": {},
   "outputs": [
    {
     "data": {
      "image/png": "[encoded data removed]",
      "text/plain": [
       "<Figure size 432x288 with 1 Axes>"
      ]
     },
     "metadata": {
      "needs_background": "light"
     },
     "output_type": "display_data"
    }
   ],
   "source": [
    "import matplotlib.pyplot as plt\n",
    "ROC_NoPile = VecROC(hist_NoPile[0])\n",
    "ROC_Pile = VecROC(hist_Pile[0])\n",
    "fig, ax = plt.subplots()\n",
    "ax.plot(ROC_Pile, ROC_NoPile)\n",
    "ax.plot([0.0, 1.0], [0.0, 1.0])\n",
    "plt.show()\n",
    "## using train data"
   ]
  },
  {
   "cell_type": "code",
   "execution_count": null,
   "id": "f18ccc3a",
   "metadata": {},
   "outputs": [],
   "source": []
  },
  {
   "cell_type": "code",
   "execution_count": null,
   "id": "b54ae593",
   "metadata": {},
   "outputs": [],
   "source": []
  },
  {
   "cell_type": "code",
   "execution_count": null,
   "id": "1977ea28",
   "metadata": {},
   "outputs": [],
   "source": []
  },
  {
   "cell_type": "code",
   "execution_count": 83,
   "id": "2e7f31f3",
   "metadata": {},
   "outputs": [
    {
     "data": {
      "image/png": "[encoded data removed]",
      "text/plain": [
       "<Figure size 432x288 with 1 Axes>"
      ]
     },
     "metadata": {
      "needs_background": "light"
     },
     "output_type": "display_data"
    }
   ],
   "source": []
  },
  {
   "cell_type": "code",
   "execution_count": null,
   "id": "8bf639e5",
   "metadata": {},
   "outputs": [],
   "source": []
  },
  {
   "cell_type": "code",
   "execution_count": 256,
   "id": "36d8620b",
   "metadata": {},
   "outputs": [
    {
     "name": "stdout",
     "output_type": "stream",
     "text": [
      "float64\n",
      "float32\n",
      "float64\n"
     ]
    }
   ],
   "source": [
    "bb = np.array([1,2.2])\n",
    "print(bb.dtype)\n",
    "print( (bb.astype(\"float32\")).dtype )\n",
    "print(bb.dtype)\n"
   ]
  },
  {
   "cell_type": "code",
   "execution_count": null,
   "id": "7d1e7f3b",
   "metadata": {},
   "outputs": [],
   "source": []
  },
  {
   "cell_type": "code",
   "execution_count": null,
   "id": "12f4f57b",
   "metadata": {},
   "outputs": [],
   "source": []
  },
  {
   "cell_type": "code",
   "execution_count": null,
   "id": "b7aaad7d",
   "metadata": {},
   "outputs": [],
   "source": []
  },
  {
   "cell_type": "code",
   "execution_count": null,
   "id": "89c1a535",
   "metadata": {},
   "outputs": [],
   "source": []
  }
 ],
 "metadata": {
  "kernelspec": {
   "display_name": "Python 3 (ipykernel)",
   "language": "python",
   "name": "python3"
  },
  "language_info": {
   "codemirror_mode": {
    "name": "ipython",
    "version": 3
   },
   "file_extension": ".py",
   "mimetype": "text/x-python",
   "name": "python",
   "nbconvert_exporter": "python",
   "pygments_lexer": "ipython3",
   "version": "3.11.4"
  }
 },
 "nbformat": 4,
 "nbformat_minor": 5
}
